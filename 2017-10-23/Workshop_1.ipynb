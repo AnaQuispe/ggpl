{
 "cells": [
  {
   "cell_type": "markdown",
   "metadata": {},
   "source": [
    "WORKSHOP ASSIGMENT\n",
    "Convert some Classic PlASM scripts from Chapter 1 and/or Chapter 2 of book Geometric Programming for Computer-Aided Design (GP4CAD).\n",
    "\n",
    "Free choice of number and type of scripts to Convert"
   ]
  },
  {
   "cell_type": "code",
   "execution_count": 6,
   "metadata": {
    "collapsed": true
   },
   "outputs": [],
   "source": [
    "from larlib import*"
   ]
  },
  {
   "cell_type": "markdown",
   "metadata": {},
   "source": [
    "Script 2.2.1 (Unit hyper-parallelopipeds)\n",
    "\n",
    "DEF Segment = CUBOID:<1>;\n",
    "DEF Square = CUBOID:<1,1>;\n",
    "DEF Cube = CUBOID:<1,1,1>;\n",
    "DEF Hypercube = CUBOID:<1,1,1,1>;"
   ]
  },
  {
   "cell_type": "code",
   "execution_count": null,
   "metadata": {
    "collapsed": true
   },
   "outputs": [],
   "source": [
    "# script 2.2.1\n",
    "def segment(): return CUBOID([1]);\n",
    "def square(): return CUBOID([1, 1]);\n",
    "def cube(): return CUBOID([1, 1, 1]);"
   ]
  },
  {
   "cell_type": "code",
   "execution_count": null,
   "metadata": {
    "collapsed": true
   },
   "outputs": [],
   "source": [
    "VIEW(segment())\n",
    "VIEW(square())\n",
    "VIEW(cube())"
   ]
  },
  {
   "cell_type": "markdown",
   "metadata": {},
   "source": [
    "                                                            segment()"
   ]
  },
  {
   "cell_type": "markdown",
   "metadata": {},
   "source": [
    "![alt text](fig1.png \"Title\")"
   ]
  },
  {
   "cell_type": "markdown",
   "metadata": {},
   "source": [
    "                                                            square()"
   ]
  },
  {
   "cell_type": "markdown",
   "metadata": {},
   "source": [
    "![alt text](fig2.png \"Title\")"
   ]
  },
  {
   "cell_type": "markdown",
   "metadata": {},
   "source": [
    "                                                            cube()"
   ]
  },
  {
   "cell_type": "markdown",
   "metadata": {},
   "source": [
    "![alt text](fig3.png \"Title\")"
   ]
  },
  {
   "cell_type": "markdown",
   "metadata": {},
   "source": [
    "Script 2.2.3\n",
    "DEF verts =\n",
    "<<0,0,0>,<1,0,0>,<0,1,0>,<1,1,0>,<0,0,1>,<1,0,1>, <0,1,1>,<1,1,1>>;\n",
    "DEF pol 1D = MKPOL:< verts, cells, pols > STRUCT MKframe\n",
    "WHERE\n",
    "cells = <<1,4>,<2,4>,<4,8>>,\n",
    "pols = <<1,2,3>>\n",
    "END;\n",
    "DEF pol 2D = MKPOL:<verts, <<1,2,3,4>,<2,4,8>>, <<1>,<2>>> STRUCT MKframe\n",
    "DEF pol 3D = MKPOL:<verts, <<1,2,3,5>,<2,3,4,8>>, <<1,2>>> STRUCT MKframe\n",
    "DEF mixed D = MKPOL:<verts, <<1,2,3,5>,<2,3,4>,<4,8>>, <<1,2,3>> >\n",
    "STRUCT MKframe"
   ]
  },
  {
   "cell_type": "code",
   "execution_count": null,
   "metadata": {
    "collapsed": true
   },
   "outputs": [],
   "source": [
    "# script 2.2.3\n",
    "\n",
    "def verts(): return ([[0, 0, 0], [1, 0, 0], [0, 1, 0], [1, 1, 0], [0, 0, 1], [1, 0, 1], [0, 1, 1], [1, 1, 1]]);\n",
    "\n",
    "def pol_1D():\n",
    "\n",
    "    cells = [[1, 4], [2, 4], [4, 8]]\n",
    "    pols = [[1, 2, 3]]\n",
    "    mkframe = MKPOL([verts(), cells, pols])\n",
    "    return mkframe;\n",
    "\n",
    "def pol_2D():\n",
    "\n",
    "    mkframe = MKPOL([verts(), [[1, 2, 3, 4], [2, 4, 8]], [[1], [2]]])\n",
    "    return mkframe;\n",
    "\n",
    "def pol_3D():\n",
    "\n",
    "    mkframe = MKPOL([verts(), [[1, 2, 3, 5], [2, 3, 4, 8]], [[1, 2]]])\n",
    "    return mkframe;\n",
    "\n",
    "def mixed_D():\n",
    "\n",
    "    mkframe = MKPOL([verts(), [[1, 2, 3, 5], [2, 3, 4], [4, 8]], [[1, 2, 3]]])\n",
    "    return mkframe;\n",
    "\n",
    "VIEW(pol_1D())\n",
    "VIEW(pol_2D())\n",
    "VIEW(pol_3D())\n",
    "VIEW(mixed_D())"
   ]
  },
  {
   "cell_type": "markdown",
   "metadata": {},
   "source": [
    "                                                        pol_1D()"
   ]
  },
  {
   "cell_type": "markdown",
   "metadata": {},
   "source": [
    "![alt text](fig4.png \"Title\")"
   ]
  },
  {
   "cell_type": "markdown",
   "metadata": {},
   "source": [
    "                                                        pol_2D()"
   ]
  },
  {
   "cell_type": "markdown",
   "metadata": {},
   "source": [
    "![alt text](fig5.png \"Title\")"
   ]
  },
  {
   "cell_type": "markdown",
   "metadata": {},
   "source": [
    "                                                            pol_3D()"
   ]
  },
  {
   "cell_type": "markdown",
   "metadata": {},
   "source": [
    "![alt text](fig6.png \"Title\")"
   ]
  },
  {
   "cell_type": "markdown",
   "metadata": {},
   "source": [
    "                                                            mixed_D()"
   ]
  },
  {
   "cell_type": "markdown",
   "metadata": {},
   "source": [
    "![alt text](fig7.png \"Title\")"
   ]
  },
  {
   "cell_type": "markdown",
   "metadata": {},
   "source": [
    "script prova cilindri\n",
    "STRUCT:<\n",
    "CYLINDER:<1, 1>:4, T:1:2.5,\n",
    "CYLINDER:<1, 2>:8, T:1:3.5,\n",
    "CYLINDER:<1.5, 3>:16, T:1:4.5,\n",
    "CYLINDER:<1.5, 4>:24\n",
    ">;"
   ]
  },
  {
   "cell_type": "code",
   "execution_count": null,
   "metadata": {
    "collapsed": true
   },
   "outputs": [],
   "source": [
    "# script prova cilindri\n",
    "\n",
    "a = COLOR([1.0, 0, 0])(MY_CYLINDER([1, 1])(4))\n",
    "b = COLOR([1.0, 0.3, 0.3])(T(1)(2.5)(MY_CYLINDER([1, 2])(8)))\n",
    "c = COLOR([1.0, 0.6, 0.6])(T(1)(5.5)(MY_CYLINDER([1.5, 3])(16)))\n",
    "d = COLOR([1.0, 0.8, 0.8])(T(1)(9.5)(MY_CYLINDER([1.5, 4])(24)))\n",
    "\n",
    "VIEW(STRUCT([a, b, c, d]))"
   ]
  },
  {
   "cell_type": "markdown",
   "metadata": {},
   "source": [
    "![alt text](fig8.png \"Title\")"
   ]
  },
  {
   "cell_type": "markdown",
   "metadata": {},
   "source": [
    "Script 1.5.3 (Table model)\n",
    "DEF Leg = CUBOID:< 0.1,0.1,0.7 >;\n",
    "DEF Plane = CUBOID:< 1, 1, 0.2>;\n",
    "DEF Table = STRUCT:<\n",
    "Leg, T:1:0.9, Leg, T:2:0.9, Leg, T:1:-0.9, Leg,\n",
    "T:<2,3>:<-0.9,0.7>, Plane >;\n",
    "DEF Table1 = STRUCT:<\n",
    "Leg, T:1:0.9:Leg, T:<1,2>:<0.9,0.9>:Leg, T:2:0.9:Leg,\n",
    "T:3:0.7:Plane >;\n"
   ]
  },
  {
   "cell_type": "code",
   "execution_count": null,
   "metadata": {
    "collapsed": true
   },
   "outputs": [],
   "source": [
    "# script 1.5.3\n",
    "\n",
    "def Leg():\n",
    "    return CUBOID([0.1, 0.1, 0.7]);\n",
    "\n",
    "def Plane():\n",
    "    return CUBOID([1, 1, 0.2]);\n",
    "\n",
    "def Table():\n",
    "    return STRUCT([Leg(), T(1)(0.9)(Leg()), T(2)(0.9)(Leg()), T([1, 2])([0.9, 0.9])(Leg()), T(3)(0.7)(Plane())]);\n",
    "\n",
    "VIEW(COLOR([0.6, 0.4, 0.2])(Leg()))\n",
    "VIEW(COLOR([0.6, 0.4, 0.2])(Plane()))\n",
    "VIEW(COLOR([0.6, 0.4, 0.2])(Table()))"
   ]
  },
  {
   "cell_type": "markdown",
   "metadata": {},
   "source": [
    "                                                        Leg()"
   ]
  },
  {
   "cell_type": "markdown",
   "metadata": {},
   "source": [
    "![alt text](fig9.png \"Title\")"
   ]
  },
  {
   "cell_type": "markdown",
   "metadata": {},
   "source": [
    "                                                            Plane()"
   ]
  },
  {
   "cell_type": "markdown",
   "metadata": {},
   "source": [
    "![alt text](fig10.png \"Title\")"
   ]
  },
  {
   "cell_type": "markdown",
   "metadata": {},
   "source": [
    "                                                            Table()"
   ]
  },
  {
   "cell_type": "markdown",
   "metadata": {},
   "source": [
    "![alt text](fig11.png \"Title\")"
   ]
  },
  {
   "cell_type": "markdown",
   "metadata": {},
   "source": [
    "Script 1.5.4 (1-skeleton)\n",
    "DEF out = @1:(CUBOID:<1,1,1> STRUCT SIMPLEX:3);"
   ]
  },
  {
   "cell_type": "code",
   "execution_count": null,
   "metadata": {
    "collapsed": true
   },
   "outputs": [],
   "source": [
    "# script 1.5.4 (1-skeleton)\n",
    "\n",
    "def out():\n",
    "    return STRUCT([SKEL_1(CUBOID([1, 1, 1])), SKEL_1(SIMPLEX(3))])\n",
    "\n",
    "VIEW(out())"
   ]
  },
  {
   "cell_type": "markdown",
   "metadata": {},
   "source": [
    "![alt text](fig12.png \"Title\")"
   ]
  },
  {
   "cell_type": "markdown",
   "metadata": {},
   "source": [
    "Q:<10,-10,10> ≡ PolComplex{1,1}\n",
    "Q:<10,-10,10> * Q:<10,-10,10> ≡ PolComplex{2,2}\n",
    "Q:<10,-10,10> * Q:<10,-10,10> * Q:3 ≡ PolComplex{3,3}"
   ]
  },
  {
   "cell_type": "code",
   "execution_count": null,
   "metadata": {
    "collapsed": true
   },
   "outputs": [],
   "source": [
    "# example 1.5.5\n",
    "\n",
    "piano_x = QUOTE([10, -10, 10])\n",
    "piano_xy = PROD([x, x])\n",
    "piano_xyz = PROD([y, QUOTE([3])])\n",
    "\n",
    "VIEW(piano_x)\n",
    "VIEW(piano_xy)\n",
    "VIEW(piano_xyz)"
   ]
  },
  {
   "cell_type": "markdown",
   "metadata": {},
   "source": [
    "                                                            piano_x"
   ]
  },
  {
   "cell_type": "markdown",
   "metadata": {},
   "source": [
    "![alt text](fig13.png \"Title\")"
   ]
  },
  {
   "cell_type": "markdown",
   "metadata": {},
   "source": [
    "                                                                piano_xy"
   ]
  },
  {
   "cell_type": "markdown",
   "metadata": {},
   "source": [
    "![alt text](fig14.png \"Title\")"
   ]
  },
  {
   "cell_type": "markdown",
   "metadata": {},
   "source": [
    "                                                           piano_xyz()"
   ]
  },
  {
   "cell_type": "markdown",
   "metadata": {},
   "source": [
    "![alt text](fig15.png \"Title\")"
   ]
  },
  {
   "cell_type": "markdown",
   "metadata": {},
   "source": [
    "Script 1.5.9 (Boolean example)\n",
    "DEF a = T:<1,2>:<-0.5,-0.5>:(CUBOID:<1,1,1>);\n",
    "DEF b = R:<1,2>:(PI/4):a;\n",
    "STRUCT:< a + b, T:1:2, a & b, T:1:2, a ∧ b, T:1:2, a - b >;"
   ]
  },
  {
   "cell_type": "code",
   "execution_count": null,
   "metadata": {
    "collapsed": true
   },
   "outputs": [],
   "source": [
    "# script 1.5.9 (boolean example)\n",
    "\n",
    "def a():\n",
    "    return T([1, 2])([-0.5, -0.5])(CUBOID([1, 1, 1]));\n",
    "\n",
    "def b():\n",
    "    return R([1, 2])(PI/4)(a());\n",
    "\n",
    "VIEW(STRUCT([COLOR([0.9, 0.0, 0.9])(UNION([a(), b()])), COLOR([1.0, 0.2, 1.0])(T(1)(1.5)(INTERSECTION([a(), b()]))),\n",
    "            COLOR([1, 0.4, 1])(T(1)(3)(XOR([a(), b()]))), COLOR([1, 0.6, 1])(T(1)(4.5)(DIFFERENCE([a(), b()])))]))"
   ]
  },
  {
   "cell_type": "markdown",
   "metadata": {},
   "source": [
    "![alt text](fig16.png \"Title\")"
   ]
  },
  {
   "cell_type": "markdown",
   "metadata": {},
   "source": [
    "Script 1.5.10 (Table model (2))\n",
    "DEF legs = Q:< 0.1,-0.8,0.1 > * Q:< 0.1,-0.8,0.1 > * Q:0.7;\n",
    "DEF plane = Q:1 * Q:1 * Q:0.2;\n",
    "DEF table = Legs TOP Plane;\n",
    "DEF chair = S:<1,2,3>:<0.4,0.4,0.5>:Table;\n",
    "DEF assembly = chair RIGHT table RIGHT chair UP chair DOWN chair"
   ]
  },
  {
   "cell_type": "code",
   "execution_count": null,
   "metadata": {
    "collapsed": true
   },
   "outputs": [],
   "source": [
    "# script1.5.10 (table model (2))\n",
    "\n",
    "def legs():\n",
    "    return PROD([PROD([QUOTE([0.1, -0.8, 0.1]), QUOTE([0.1, -0.8, 0.1])]), QUOTE([0.7])]);\n",
    "\n",
    "def plane():\n",
    "    return PROD([PROD([QUOTE([1]), QUOTE([1])]), QUOTE([0.2])]);\n",
    "\n",
    "def table():\n",
    "    return TOP([legs(), plane()]);\n",
    "\n",
    "\n",
    "def chair():\n",
    "    m = S([1, 2, 3])([0.4, 0.4, 0.5])(table())\n",
    "    return COLOR([0.8, 0.4, 0.0])(T([1, 2])([0.3, 0.3])(m));\n",
    "\n",
    "def assembly():\n",
    "    a = RIGHT([table(), chair()])\n",
    "    b = LEFT([table(), chair()])\n",
    "    c = UP([table(), chair()])\n",
    "    d = DOWN([table(), chair()])\n",
    "    return STRUCT([a, b, c, d])\n",
    "\n",
    "VIEW(chair())\n",
    "VIEW(COLOR([0.6, 0.4, 0.2])(assembly()))"
   ]
  },
  {
   "cell_type": "markdown",
   "metadata": {},
   "source": [
    "                                                        chair()"
   ]
  },
  {
   "cell_type": "markdown",
   "metadata": {},
   "source": [
    "![alt text](fig17.png \"Title\")"
   ]
  },
  {
   "cell_type": "markdown",
   "metadata": {},
   "source": [
    "                                                   assembly()-  table with 4 chairs"
   ]
  },
  {
   "cell_type": "markdown",
   "metadata": {},
   "source": [
    "![alt text](fig18.png \"Title\")"
   ]
  },
  {
   "cell_type": "markdown",
   "metadata": {},
   "source": [
    "Script 1.6.3 (Assembly of colored cubes)\n",
    "(plasm \"\n",
    "DEF cube = CUBOID:<1,1,1>;\n",
    "DEF cube1 = cube COLOR CYAN;\n",
    "DEF cube2 = cube COLOR MAGENTA;\n",
    "DEF cube3 = cube COLOR YELLOW;\n",
    "DEF basis = (EMBED:1 ∼ CUBOID):<3,3>;\n",
    "DEF assembly = cube1 TOP cube2 TOP cube3;\n",
    "DEF out = basis TOP assembly;\n",
    "\")"
   ]
  },
  {
   "cell_type": "code",
   "execution_count": null,
   "metadata": {
    "collapsed": true
   },
   "outputs": [],
   "source": [
    "# script 1.6.3\n",
    "\n",
    "def cube(): return CUBOID([1, 1, 1]);\n",
    "def cube1(): return COLOR(CYAN)(cube());\n",
    "def cube2(): return COLOR(MAGENTA)(cube());\n",
    "def cube3(): return COLOR(YELLOW)(cube());\n",
    "def basis(): return STRUCT([EMBED(1), CUBOID([3, 3])]);\n",
    "def assembly(): return TOP([TOP([cube1(), cube2()]), cube3()]);\n",
    "def out(): return TOP([basis(), assembly()]);"
   ]
  },
  {
   "cell_type": "code",
   "execution_count": null,
   "metadata": {
    "collapsed": true
   },
   "outputs": [],
   "source": [
    "VIEW(out())"
   ]
  },
  {
   "cell_type": "markdown",
   "metadata": {},
   "source": [
    "![alt text](fig19.png \"Title\")"
   ]
  },
  {
   "cell_type": "code",
   "execution_count": null,
   "metadata": {
    "collapsed": true
   },
   "outputs": [],
   "source": [
    "VIEW(SKEL_1(out()))"
   ]
  },
  {
   "cell_type": "markdown",
   "metadata": {},
   "source": [
    "![alt text](fig20.png \"Title\")"
   ]
  },
  {
   "cell_type": "code",
   "execution_count": null,
   "metadata": {
    "collapsed": true
   },
   "outputs": [],
   "source": [
    "VIEW(TOP([basis(), SKEL_1(assembly())]))"
   ]
  },
  {
   "cell_type": "markdown",
   "metadata": {},
   "source": [
    "![alt text](fig21.png \"Title\")"
   ]
  },
  {
   "cell_type": "code",
   "execution_count": null,
   "metadata": {
    "collapsed": true
   },
   "outputs": [],
   "source": [
    "VIEW(TOP([basis(), COLOR(RED)(SWEEP([0.2, 0.2, 0.2])(SKEL_1(assembly())))]))"
   ]
  },
  {
   "cell_type": "markdown",
   "metadata": {},
   "source": [
    "![alt text](fig22.png \"Title\")"
   ]
  },
  {
   "cell_type": "code",
   "execution_count": null,
   "metadata": {
    "collapsed": true
   },
   "outputs": [],
   "source": [
    "VIEW(TOP([basis(), COLOR(RED)(OFFSET([0.1, 0.1, 0.1])(SKEL_1(assembly())))]))"
   ]
  },
  {
   "cell_type": "markdown",
   "metadata": {},
   "source": [
    "![alt text](fig23.png \"Title\")"
   ]
  },
  {
   "cell_type": "code",
   "execution_count": null,
   "metadata": {
    "collapsed": true
   },
   "outputs": [],
   "source": [
    "VIEW(TOP([basis(), STRUCT([COLOR(RED)(OFFSET([0.1, 0.1, 0.1])(SKEL_1(assembly()))), assembly()])]))"
   ]
  },
  {
   "cell_type": "markdown",
   "metadata": {},
   "source": [
    "![alt text](fig24.png \"Title\")"
   ]
  },
  {
   "cell_type": "code",
   "execution_count": null,
   "metadata": {
    "collapsed": true
   },
   "outputs": [],
   "source": [
    ""
   ]
  }
 ],
 "metadata": {
  "kernelspec": {
   "display_name": "Python 2",
   "language": "python",
   "name": "python2"
  },
  "language_info": {
   "codemirror_mode": {
    "name": "ipython",
    "version": 2.0
   },
   "file_extension": ".py",
   "mimetype": "text/x-python",
   "name": "python",
   "nbconvert_exporter": "python",
   "pygments_lexer": "ipython2",
   "version": "2.7.12"
  }
 },
 "nbformat": 4,
 "nbformat_minor": 0
}