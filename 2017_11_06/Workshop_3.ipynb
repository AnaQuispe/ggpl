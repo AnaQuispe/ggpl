{
 "cells": [
  {
   "cell_type": "markdown",
   "metadata": {},
   "source": [
    "![alt text](titlew3.png \"Title\")"
   ]
  },
  {
   "cell_type": "markdown",
   "metadata": {},
   "source": [
    "We are going to generate a 3D model of Leonardo's centralized church scheme (images below)"
   ]
  },
  {
   "cell_type": "markdown",
   "metadata": {},
   "source": [
    "![alt text](church.png \"Title\")"
   ]
  },
  {
   "cell_type": "markdown",
   "metadata": {},
   "source": [
    "![alt text](church1.png \"Title\")"
   ]
  },
  {
   "cell_type": "markdown",
   "metadata": {},
   "source": [
    "The structure of the leonard church we chose is characterized by being symmetrical. Hence, functions will be defined that generate individual parts of the church that will then be put together in the final structure of the church.\n",
    "\n",
    "The 3D model of the church uses many Boolean functions (DIFFERENCE, INTERSECT, etc) and therefore the whole structure of the church takes us about 3 minutes."
   ]
  },
  {
   "cell_type": "markdown",
   "metadata": {},
   "source": [
    "Below there are the functions to create the different types of chapels in the church that we chose"
   ]
  },
  {
   "cell_type": "code",
   "execution_count": 1,
   "metadata": {
    "collapsed": false
   },
   "outputs": [
    {
     "name": "stdout",
     "output_type": "stream",
     "text": [
      "Evaluating fenvs.py..\n",
      "...fenvs.py imported in 0.0283636707819 seconds\n"
     ]
    },
    {
     "name": "stderr",
     "output_type": "stream",
     "text": [
      "c:\\python27\\lib\\site-packages\\larlib\\larstruct.py:233: FutureWarning: comparison to `None` will result in an elementwise object comparison in the future.\n",
      "  self.body = [item for item in data if item != None]\n"
     ]
    }
   ],
   "source": [
    "from larlib import *"
   ]
  },
  {
   "cell_type": "code",
   "execution_count": null,
   "metadata": {
    "collapsed": true
   },
   "outputs": [],
   "source": [
    "def simpleTower(re, ri, ht, nw):\n",
    "    \"\"\" This function returns a simple tower\n",
    "            :param re: external radius of the tower\n",
    "            :param ri: internal radius of the tower\n",
    "            :param ht: high of the tower\n",
    "            :param nw: numer of wall of th tower\n",
    "            :return: an object HPC  \"\"\"\n",
    "\n",
    "    def towerDetail(hd1, hd2, dd1, dd2):\n",
    "        \"\"\" This function returns  details of a simple tower\n",
    "                :param hd1: height of the first detail\n",
    "                :param hd2: height of the second detail\n",
    "                :param dd1: distance from the tower of the first detail\n",
    "                :param dd2: distance from the tower of the second detail\n",
    "                \"\"\"\n",
    "        tower = TEXTURE(\"marmo.png\")(DIFFERENCE([MY_CYLINDER([re, ht])(nw), MY_CYLINDER([ri, ht])(16)]))\n",
    "        detail1 = TEXTURE(\"marmo.png\")(STRUCT([T(3)(hd1)(DIFFERENCE([MY_CYLINDER([re + dd2, hd2])(16), MY_CYLINDER([ri, hd2])(16)])),\n",
    "                          DIFFERENCE([MY_CYLINDER([re + dd1, hd1])(16), MY_CYLINDER([ri, hd1])(16)])]))\n",
    "\n",
    "        detail2 = TEXTURE(\"marmo.png\")(DIFFERENCE([MY_CYLINDER([re + dd1, hd1])(16), MY_CYLINDER([re, hd1])(16)]))\n",
    "        column = T([1, 2])([double((-re * 3) / 2), -0.15])(CUBOID([re * 3, 0.3, ht - dd1]))\n",
    "        columns = STRUCT([column, R([1, 2])(PI / 6)(column), R([1, 2])(PI / 3)(column), R([1, 2])(-PI / 6)(column),\n",
    "                          R([1, 2])(-PI / 3)(column)])\n",
    "        detail3 = TEXTURE(\"marmo.png\")(T(3)(hd1)(INTERSECTION(\n",
    "            [DIFFERENCE([MY_CYLINDER([re + dd1, ht - hd1])(16), MY_CYLINDER([re, ht - hd1])(16)]), columns])))\n",
    "\n",
    "        return STRUCT([tower, T(3)(ht)(detail1), detail2, detail3])\n",
    "    return towerDetail\n",
    "\n",
    "def mediumTowerA(re, ri, ht):\n",
    "    \"\"\" This function returns a medium tower with six walls and windows\n",
    "                :param re: external radius of the tower\n",
    "                :param ri: internal radius of the tower\n",
    "                :param ht: high of the tower\n",
    "                :return: an object HPC  \"\"\"\n",
    "    def towerDetail(hd1, hd2, dd1, dd2):\n",
    "        \"\"\" This function returns  details of a simple tower\n",
    "                        :param hd1: height of the first detail\n",
    "                        :param hd2: height of the second detail\n",
    "                        :param dd1: distance from the tower of the first detail\n",
    "                        :param dd2: distance from the tower of the second detail\n",
    "                        \"\"\"\n",
    "        tower = DIFFERENCE([MY_CYLINDER([re, ht])(16), MY_CYLINDER([ri, ht])(16)])\n",
    "        detail1 = STRUCT([T(3)(hd1)(DIFFERENCE([MY_CYLINDER([re + dd2, hd2])(16), MY_CYLINDER([ri, hd2])(16)])),\n",
    "                          DIFFERENCE([MY_CYLINDER([re + dd1, hd1])(16), MY_CYLINDER([ri, hd1])(16)])])\n",
    "\n",
    "        detail2 = DIFFERENCE([MY_CYLINDER([re + dd1, hd1])(16), MY_CYLINDER([re, hd1])(16)])\n",
    "        column = T([1, 2])([double((-re * 3) / 2), -0.15])(CUBOID([re * 3, 0.3, ht - dd1]))\n",
    "        columns = STRUCT([column, R([1, 2])(PI / 3)(column), R([1, 2])(PI / 3)(column), R([1, 2])(-PI / 3)(column),\n",
    "                          R([1, 2])(2*PI/3)(column), R([1, 2])(-2*PI/3)(column), R([1, 2])(PI)(column)])\n",
    "        detail3 = T(3)(hd1)(INTERSECTION([DIFFERENCE([MY_CYLINDER([re + double(dd1/2), ht - hd1])(16),\n",
    "                                                      MY_CYLINDER([re, ht - hd1])(16)]), columns]))\n",
    "        detail4 = STRUCT([T(3)(0.08)(CONE([0.25, 0.35])(4)), MY_CYLINDER([0.28, 0.08])(16)])\n",
    "        window = MY_CYLINDER([0.225, 4])(16)\n",
    "        windows = STRUCT([R([1, 2])(PI/6)(T([1, 3])([2, 0.65])(R([1, 3])(PI/2)(window))),\n",
    "                          R([1, 2])(-PI / 6)(T([1, 3])([2, 0.65])(R([1, 3])(PI / 2)(window))),\n",
    "                          R([1, 2])(PI / 2)(T([1, 3])([2, 0.65])(R([1, 3])(PI / 2)(window)))])\n",
    "        finalTower = STRUCT([tower, T(3)(ht)(detail1), detail2, detail3, T(3)(2.999)(detail4)])\n",
    "        return TEXTURE(\"marmo.png\")(DIFFERENCE([finalTower, windows]))\n",
    "    return towerDetail\n",
    "\n",
    "def mediumTowerB(re, ri, ht):\n",
    "    \"\"\" This function returns a medium tower with eigth walls and windows\n",
    "                    :param re: external radius of the tower\n",
    "                    :param ri: internal radius of the tower\n",
    "                    :param ht: high of the tower\n",
    "                    :return: an object HPC  \"\"\"\n",
    "    def towerDetail(hd1, hd2, dd1, dd2):\n",
    "        \"\"\" This function returns  details of a simple tower\n",
    "                                :param hd1: height of the first detail\n",
    "                                :param hd2: height of the second detail\n",
    "                                :param dd1: distance from the tower of the first detail\n",
    "                                :param dd2: distance from the tower of the second detail\n",
    "                                \"\"\"\n",
    "        tower = DIFFERENCE([MY_CYLINDER([re, ht])(8), MY_CYLINDER([ri, ht])(16)])\n",
    "        detail1 = STRUCT([T(3)(hd1)(DIFFERENCE([MY_CYLINDER([re + dd2, hd2])(16), MY_CYLINDER([ri, hd2])(16)])),\n",
    "                          DIFFERENCE([MY_CYLINDER([re + dd1, hd1])(16), MY_CYLINDER([ri, hd1])(16)])])\n",
    "\n",
    "        detail2 = DIFFERENCE([MY_CYLINDER([re + dd1, hd1])(16), MY_CYLINDER([re, hd1])(8)])\n",
    "        column = T([1, 2])([double((-re * 3) / 2), -0.15])(CUBOID([re * 3, 0.3, ht - dd1]))\n",
    "        columns = STRUCT([column, R([1, 2])(PI/4)(column), R([1, 2])(-PI/4)(column), R([1, 2])(PI/2)(column)])\n",
    "        detail3 = T(3)(hd1)(INTERSECTION([DIFFERENCE([MY_CYLINDER([re + double(dd1/2), ht - hd1])(16),\n",
    "                                                      MY_CYLINDER([re, ht - hd1])(16)]), columns]))\n",
    "        detail4 = STRUCT([T(3)(0.1)(CONE([0.35, 0.5])(4)), MY_CYLINDER([0.38, 0.1])(16)])\n",
    "        window = MY_CYLINDER([0.225, 4])(16)\n",
    "        windows = T(3)(double(ht/2))(STRUCT([R([1, 2])(PI/8)(T(1)(2)(R([1, 3])(PI/2)(window))),\n",
    "                          R([1, 2])(-PI/8)(T(1)(2)(R([1, 3])(PI/2)(window))),\n",
    "                          R([1, 2])(3*PI/8)(T(1)(2)(R([1, 3])(PI / 2)(window))),\n",
    "                          R([1, 2])(-3*PI/8)(T(1)(2)(R([1, 3])(PI / 2)(window)))]))\n",
    "\n",
    "        finalTower = STRUCT([tower, T(3)(ht)(detail1), detail2, detail3, T(3)(3.599)(detail4)])\n",
    "        return TEXTURE(\"marmo.png\")(DIFFERENCE([finalTower, windows]))\n",
    "    return towerDetail\n",
    "\n",
    "# this function return a half of sphere\n",
    "def HALFSPHERE(radius):\n",
    "\n",
    "    def HALFSPHERE0(subds):\n",
    "        N, M = subds\n",
    "        domain = Hpc(Grid([N * [PI / N], M * [2 * PI / M]]))\n",
    "        domain = MAT([[1, 0, 0, 0], [-PI / 2, 1, 0, 0], [-PI, 0, 1, 0], [0, 0, 0, 1]])(domain)\n",
    "        fx = lambda p: radius * math.cos(p[0]) * math.sin(p[1])\n",
    "        fy = lambda p: radius * math.cos(p[0]) * math.cos(p[1])\n",
    "        fz = lambda p: radius * ABS(math.sin(p[0]))\n",
    "        ret = GMAP([fx, fy, fz])(domain)\n",
    "        return ret\n",
    "    return HALFSPHERE0\n",
    "\n",
    "# This function returns a quarter of sphere\n",
    "def QUARTERSPHERE (radius):\n",
    "\n",
    "\tdef QUARTERSPHERE0 (subds):\n",
    "\t\tN , M = subds\n",
    "\t\tdomain = Hpc(Grid([N*[PI/(2*N)],M*[PI/M]]))\n",
    "\t\tdomain = MAT([[1,0,0,0],[-PI/2,1,0,0],[-PI,0,1,0],[0,0,0,1]])(domain)\n",
    "\t\tfx  = lambda p: radius * math.cos(p[0]) * math.sin  (p[1])\n",
    "\t\tfy  = lambda p: radius * math.cos(p[0]) * math.cos (p[1])\n",
    "\t\tfz  = lambda p: radius * ABS(sin(p[0]))\n",
    "\t\tret=  GMAP([fx, fy, fz])(domain)\n",
    "\t\treturn ret\n",
    "\treturn QUARTERSPHERE0\n",
    "\n",
    "\n",
    "def bigTower(re, ri, ht):\n",
    "    \"\"\" This function returns the big tower of the final structure\n",
    "                            :param re: external radius of the tower\n",
    "                            :param ri: internal radius of the tower\n",
    "                            :param ht: high of the tower\n",
    "                            :return: an object HPC  \"\"\"\n",
    "    def bigT(hd1, hd2, dd1, dd2):\n",
    "        \"\"\" This function returns  details of a simple tower\n",
    "                                        :param hd1: height of the first detail\n",
    "                                        :param hd2: height of the second detail\n",
    "                                        :param dd1: distance from the tower of the first detail\n",
    "                                        :param dd2: distance from the tower of the second detail\n",
    "                                        \"\"\"\n",
    "        tower = DIFFERENCE([MY_CYLINDER([re, ht])(16), MY_CYLINDER([ri, ht])(16)])\n",
    "        detail1 = STRUCT([T(3)(hd1)(DIFFERENCE([MY_CYLINDER([re + dd2, hd2])(16), MY_CYLINDER([ri, hd2])(16)])),\n",
    "                          DIFFERENCE([MY_CYLINDER([re + dd1, hd1])(16), MY_CYLINDER([ri, hd1])(16)])])\n",
    "\n",
    "        detail2 = STRUCT([T(3)(hd2)(DIFFERENCE([MY_CYLINDER([re + dd1, hd1])(16), MY_CYLINDER([re, hd1])(16)])),\n",
    "                          DIFFERENCE([MY_CYLINDER([re + dd2, hd2])(16), MY_CYLINDER([ri, hd2])(16)])])\n",
    "        column = T([1, 2])([double((-re * 3) / 2), -0.2])(CUBOID([re * 3, 0.4, ht - dd1]))\n",
    "        columns = STRUCT([R([1, 2])(PI/6)(column), R([1, 2])(-PI/6)(column), R([1, 2])(PI/3)(column), R([1, 2])(-PI/3)(column)])\n",
    "        detail3 = T(3)(hd1)(INTERSECTION([DIFFERENCE([MY_CYLINDER([re + double(dd1/2)+0.05, ht - hd1])(16),\n",
    "                                                      MY_CYLINDER([re, ht - hd1])(16)]), columns]))\n",
    "        holeDet = STRUCT([T([1, 3])([0.15, 0.1])(CUBOID([0.1, 0.6, 0.4])), T([1, 3])([0.35, 0.1])(CUBOID([0.1, 0.6, 0.4])),\n",
    "                          T([2, 3])([0.15, 0.1])(CUBOID([0.6, 0.1, 0.4])), T([2, 3])([0.35, 0.1])(CUBOID([0.6, 0.1, 0.4]))])\n",
    "        det = DIFFERENCE([CUBOID([0.6, 0.6, 0.6]), holeDet])\n",
    "        detail4 = STRUCT([MY_CYLINDER([0.65, 0.15])(16), T([1, 2, 3])([-0.4, -0.4, 0.15])(CUBOID([0.8, 0.8, 0.2])),\n",
    "                          T([1, 2, 3])([-0.3, -0.3, 0.35])(det), T([1, 2, 3])([-0.4, -0.4, 0.95])\n",
    "                          (CUBOID([0.8, 0.8, 0.1])), T(3)(1.05)(CONE([0.27, 0.8])(16))])\n",
    "        window1 = MY_CYLINDER([0.56, 8])(16)\n",
    "        window2 = MY_CYLINDER([0.3, 8])(16)\n",
    "        windows = T(3)(double(ht/2) + hd1+hd2)(STRUCT([T(1)(4)(R([1, 3])(PI/2)(window1)),\n",
    "                          R([1, 2])(PI/4)(T(1)(4)(R([1, 3])(PI/2)(window2))),\n",
    "                          R([1, 2])(-PI/4)(T(1)(4)(R([1, 3])(PI/2)(window2))),\n",
    "                          R([1, 2])(PI/2)(T(1)(4)(R([1, 3])(PI/2)(window1)))]))\n",
    "\n",
    "        finalTower = STRUCT([tower, T(3)(ht)(detail1), detail2, detail3, T(3)(6.799)(detail4)])\n",
    "        return TEXTURE(\"marmo.png\")(DIFFERENCE([finalTower, windows]))\n",
    "    return bigT\n"
   ]
  },
  {
   "cell_type": "code",
   "execution_count": null,
   "metadata": {
    "collapsed": true
   },
   "outputs": [],
   "source": [
    "VIEW(STRUCT([simpleTower(1.1, 0.9, 2.5, 200)(0.3, 0.2, 0.07, 0.2), TEXTURE(\"tegole2.png\")(T(3)(3)(HALFSPHERE(1.1)([16, 16])))]))"
   ]
  },
  {
   "cell_type": "markdown",
   "metadata": {},
   "source": [
    "                                         Front and bottom view of the simple chapel"
   ]
  },
  {
   "cell_type": "markdown",
   "metadata": {},
   "source": [
    "![alt text](t1.png \"Title\")"
   ]
  },
  {
   "cell_type": "code",
   "execution_count": null,
   "metadata": {
    "collapsed": true
   },
   "outputs": [],
   "source": [
    "VIEW(STRUCT([mediumTowerA(1.3, 1.1, 1.2)(0.2, 0.3, 0.15, 0.3), TEXTURE(\"tegole2.png\")(T(3)(1.7)(HALFSPHERE(1.3)([16, 16])))]))"
   ]
  },
  {
   "cell_type": "markdown",
   "metadata": {},
   "source": [
    "                                          Front and bottom view of the six-sided chapel"
   ]
  },
  {
   "cell_type": "markdown",
   "metadata": {},
   "source": [
    "![alt text](t2_6lati.png \"Title\")"
   ]
  },
  {
   "cell_type": "code",
   "execution_count": null,
   "metadata": {
    "collapsed": true
   },
   "outputs": [],
   "source": [
    "VIEW(STRUCT([mediumTowerB(1.6, 1.4, 1.5)(0.25, 0.25, 0.1, 0.25), TEXTURE(\"tegole2.png\")(T(3)(2)(HALFSPHERE(1.6)([16, 16])))]))"
   ]
  },
  {
   "cell_type": "markdown",
   "metadata": {},
   "source": [
    "                                          Front and bottom view of the eight-sided chapel"
   ]
  },
  {
   "cell_type": "markdown",
   "metadata": {},
   "source": [
    "![alt text](t3_8lati.png \"Title\")"
   ]
  },
  {
   "cell_type": "code",
   "execution_count": null,
   "metadata": {
    "collapsed": true
   },
   "outputs": [],
   "source": [
    "VIEW(STRUCT([bigTower(3, 2.8, 3)(0.5, 0.5, 0.2, 0.35), TEXTURE(\"tegole2.png\")(T(3)(4)(HALFSPHERE(2.8)([16, 16])))]))"
   ]
  },
  {
   "cell_type": "markdown",
   "metadata": {},
   "source": [
    "                                                    Front view of the big chapel"
   ]
  },
  {
   "cell_type": "markdown",
   "metadata": {},
   "source": [
    "![alt text](t4_big.png \"Title\")"
   ]
  },
  {
   "cell_type": "markdown",
   "metadata": {},
   "source": [
    "                                          Bottom view and some details of the big chapel"
   ]
  },
  {
   "cell_type": "markdown",
   "metadata": {},
   "source": [
    "![alt text](t4.png \"Title\")"
   ]
  },
  {
   "cell_type": "markdown",
   "metadata": {},
   "source": [
    "function that generates a part of the final church, this is a structure with 5 chapels (4 simple chapels and a six-sided chapel)"
   ]
  },
  {
   "cell_type": "code",
   "execution_count": null,
   "metadata": {
    "collapsed": true
   },
   "outputs": [],
   "source": [
    "def structure_5towers():\n",
    "    \"\"\"This function returns an structure with five domes\"\"\"\n",
    "    holeDome = STRUCT([T([1, 2, 3])([4.6, 2.3, 3])(R([1, 3])(PI / 2)(MY_CYLINDER([0.9, 5])(16))),\n",
    "                       T([1, 2, 3])([2.3, 4.6, 3])(R([2, 3])(PI / 2)(MY_CYLINDER([0.9, 5])(16)))])\n",
    "\n",
    "    holeTowers = STRUCT([T(1)(1.2)(CUBOID([2.2, 0.2, 3])), T([1, 2])([1.2, 4.4])(CUBOID([2.2, 0.2, 3])),\n",
    "                         T(2)(1.2)(CUBOID([0.2, 2.2, 3])), T([1, 2])([4.4, 1.2])(CUBOID([0.2, 2.2, 3]))])\n",
    "    holeWall = STRUCT([holeDome, holeTowers])\n",
    "    wall = TEXTURE(\"marmo.png\")(DIFFERENCE([CUBOID([4.6, 0.2, 4.3]), holeWall]))\n",
    "    walls = STRUCT([wall, T(1)(0.2)(R([1, 2])(PI / 2)(wall)), T(2)(4.4)(wall), T(1)(4.6)(R([1, 2])(PI / 2)(wall))])\n",
    "    finalWall = STRUCT([T([1, 2])([1.3, 1.3])(walls)])\n",
    "\n",
    "    doors = T(1)(3.3)(CUBOID([0.6, 7.2, 2]))\n",
    "    stower1 = TEXTURE(\"marmo.png\")(DIFFERENCE([DIFFERENCE([T([1, 2])([3.6, 1.3])(simpleTower(1.1, 0.9, 2.5, 200)(0.3, 0.2, 0.07, 0.2)),\n",
    "                                T([1, 2])([1.5, 1.5])(CUBOID([4.2, 4.2, 3]))]), doors]))\n",
    "    stower2 = TEXTURE(\"marmo.png\")(DIFFERENCE([T([1, 2])([1.3, 3.6])(simpleTower(1.1, 0.9, 2.5, 200)(0.3, 0.2, 0.07, 0.2)),\n",
    "                    T([1, 2])([1.5, 1.5])(CUBOID([4.2, 4.2, 3]))]))\n",
    "    finalTowers = STRUCT([stower1, stower2, T([1, 2])([7.2, 7.2])(R([1, 2])(PI)(stower1)),\n",
    "                        T([1, 2])([7.2, 7.2])(R([1, 2])(-PI)(stower2))])\n",
    "\n",
    "    roof = T([1, 2, 3])([1.05, 1.05, 4.3])(STRUCT([T(3)(0.15)(DIFFERENCE([CUBOID([5.1, 5.1, 0.3]), T([1, 2])([1.15, 1.15])\n",
    "            (CUBOID([2.8, 2.8, 0.3]))])), T([1, 2])([0.15, 0.15])(DIFFERENCE([CUBOID([4.8, 4.8, 0.15]), T([1, 2])\n",
    "            ([0.4, 0.4])(CUBOID([4, 4, 0.15]))])), T([1, 2, 3])([1.05, 1.05, 0.45])(DIFFERENCE([CUBOID([3, 3, 0.35]),\n",
    "            T([1, 2])([0.1, 0.1])(CUBOID([2.8, 2.8, 0.25]))]))]))\n",
    "\n",
    "    finalRoof = TEXTURE(\"marmo.png\")(DIFFERENCE([roof, T([1, 2, 3])([3.6, 3.6, 4.75])(R([1, 2])(PI / 2)(MY_CYLINDER([1.15, 2.05])(16)))]))\n",
    "    mediumTower = T([1, 2, 3])([3.6, 3.6, 5.1])(mediumTowerA(1.3, 1.1, 1.2)(0.2, 0.3, 0.15, 0.3))\n",
    "    floorTower = MY_CYLINDER([1.3, 0.4])(16)\n",
    "    floorA = TEXTURE(\"marmo.png\")(T([1, 2])([1.2, 1.2])(STRUCT([T(1)(2.4)(floorTower), T(2)(2.4)(floorTower), T([1,2])([2.4, 4.8])(floorTower),\n",
    "                     T([1,2])([4.8,2.4])(floorTower), CUBOID([4.8, 4.8, 0.4])])))\n",
    "    dome = QUARTERSPHERE(1.1)([32, 32])\n",
    "    domes = STRUCT([T([1, 2, 3])([3.6, 1.3, 3])(R([1, 2])(PI/2)(dome)), T([1, 2, 3])([1.3, 3.6, 3])(dome),\n",
    "                    T([1, 2, 3])([3.6, 5.9, 3])(R([1, 2])(-PI/2)(dome)), T([1, 2,3])([5.9, 3.6, 3])(R([1, 2])(PI)(dome)),\n",
    "                    T([1, 2, 3])([3.6, 3.6, 6.8])(HALFSPHERE(1.3)([32, 32]))])\n",
    "\n",
    "    structure = STRUCT([T(3)(0.4)(STRUCT([finalTowers, finalWall, finalRoof, mediumTower])), floorA])\n",
    "    return STRUCT([structure, TEXTURE(\"tegole2.png\")(T(3)(0.4)(domes))])"
   ]
  },
  {
   "cell_type": "code",
   "execution_count": null,
   "metadata": {
    "collapsed": true
   },
   "outputs": [],
   "source": [
    "VIEW(structure_5towers())"
   ]
  },
  {
   "cell_type": "markdown",
   "metadata": {},
   "source": [
    "                                        Front view of the structure with 5 chapels"
   ]
  },
  {
   "cell_type": "markdown",
   "metadata": {},
   "source": [
    "![alt text](5domes_1.png \"Title\")"
   ]
  },
  {
   "cell_type": "markdown",
   "metadata": {},
   "source": [
    "                                            Side view of the structure with 5 chapels"
   ]
  },
  {
   "cell_type": "markdown",
   "metadata": {},
   "source": [
    "![alt text](5domes_2.png \"Title\")"
   ]
  },
  {
   "cell_type": "markdown",
   "metadata": {},
   "source": [
    "                                           View from top of the structure with 5 chapels"
   ]
  },
  {
   "cell_type": "markdown",
   "metadata": {},
   "source": [
    "![alt text](5domes_3.png \"Title\")"
   ]
  },
  {
   "cell_type": "markdown",
   "metadata": {},
   "source": [
    "Bottom view of the structure with 5 chapels and also the interior"
   ]
  },
  {
   "cell_type": "markdown",
   "metadata": {},
   "source": [
    "![alt text](5domes_4.png \"Title\")"
   ]
  },
  {
   "cell_type": "markdown",
   "metadata": {},
   "source": [
    "Function that generates the outer wall of the final structure. It is decided to do so in a special function because it has so many details"
   ]
  },
  {
   "cell_type": "code",
   "execution_count": null,
   "metadata": {
    "collapsed": true
   },
   "outputs": [],
   "source": [
    "def bigWall():\n",
    "    \"\"\"This function returns an object HPC. The big wall of the final structure\"\"\"\n",
    "    wall = TEXTURE(\"marmo.png\")(CUBOID([12.4, 0.2, 6.8]))\n",
    "    det1 = TEXTURE(\"marmo.png\")(STRUCT([T([1, 2, 3])([-0.25, -0.25, 4.45])(CUBOID([12.9, 0.25, 0.3])), T([1, 2])([-0.15, -0.15])\n",
    "                    (CUBOID([12.7, 0.15, 0.5]))]))\n",
    "    col = TEXTURE(\"marmo.png\")(STRUCT([T([1, 2])([-0.2, -0.2])(CUBOID([0.5, 0.2, 6.3])), T([1, 2])([1.9, -0.2])(CUBOID([0.5, 0.2, 6.3])),\n",
    "                  T([1, 2])([4, -0.2])(CUBOID([0.5, 0.2, 6.3])), T([1, 2])([7.9, -0.2])(CUBOID([0.5, 0.2, 6.3])),\n",
    "                  T([1, 2])([10, -0.2])(CUBOID([0.5, 0.2, 6.3])), T([1, 2])([12.1, -0.2])(CUBOID([0.5, 0.2, 6.3]))]))\n",
    "\n",
    "    intWall = TEXTURE(\"marmo.png\")(OFFSET([0.05, 0.05, 0.05])(STRUCT(MKPOLS([[[3.3, 2.9, 0], [3.7, 3.3, 0], [4, 3, 0], [5.85, 3, 0], [5.85, 2.4, 0], [6.5, 2.4, 0],\n",
    "                [6.5, 3, 0], [8.5, 3, 0],[8.65, 3.2, 0], [9.008, 2.85, 0], [3.3, 2.9, 6.5], [3.7, 3.3, 6.5], [4, 3, 6.5], [5.85, 3, 2],\n",
    "                [5.85, 2.4, 2], [6.5, 2.4, 2], [6.5, 3, 2], [8.5, 3, 6.5], [8.65, 3.2, 6.5], [9.008, 2.85, 6.5], [5.85, 3, 6.5],\n",
    "                 [6.5, 3, 6.5]], [[0, 10, 11, 1], [1, 11, 12, 2], [2, 12, 20, 3], [3, 13, 14, 4], [5, 15, 16, 6],\n",
    "                [6, 21, 17, 7], [7, 17, 18, 8], [8, 18, 19, 9], [13, 20, 21, 16], [14, 15, 16, 13]], [[1]]]))))\n",
    "    holeDoor = STRUCT([R([1, 2])(PI / 4)(T([1, 2])([2, -0.25])(CUBOID([13, 0.5, 6.5]))), T(2)(12.3)(R([1, 2])(-PI / 4)\n",
    "                            (T([1, 2])([2, -0.25])(CUBOID([13, 0.5,6.5]))))])\n",
    "    mediumTower = TEXTURE(\"marmo.png\")(DIFFERENCE([MY_CYLINDER([1.8, 6.8])(16), MY_CYLINDER([1.6, 6.8])(16)]))\n",
    "\n",
    "    mediumTowers = DIFFERENCE([STRUCT([T([1, 2])([2, 2])(mediumTower), T([1, 2])([2, 10.4])(mediumTower), T([1, 2])([10.4, 2])\n",
    "                    (mediumTower), T([1, 2])([10.4, 10.4])(mediumTower)]), holeDoor])\n",
    "\n",
    "    intWalls = STRUCT([intWall, T(1)(12.35)(R([1, 2])(PI/2)(intWall)), T([1, 2])([12.4, 12.35])(R([1, 2])(PI)(intWall)),\n",
    "                       T([1, 2])([0.03,12.4])(R([1, 2])(-PI/2)(intWall))])\n",
    "\n",
    "    det2 = STRUCT([T([1, 2, 3])([0.425, -0.1, 0.5])(MY_CYLINDER([0.225, 2.875])(16)), T([1, 2, 3])([1.175, -0.1, 0.5])\n",
    "                    (MY_CYLINDER([0.225, 2.875])(16))])\n",
    "\n",
    "    det3 = STRUCT([DIFFERENCE([T([1, 2, 3])([0.425, 0.1, 2.875])(R([2, 3])(PI / 2)(MY_CYLINDER([0.225, 0.1])(16))),\n",
    "           CUBOID([1.6, 0.1, 2.875])]), DIFFERENCE([T([1, 2, 3])([0.8, 0.05, 3.1])(R([2, 3])(PI / 2)(MY_CYLINDER([0.6, 0.1])(16))),\n",
    "           T(2)(-0.05)(CUBOID([1.6, 0.1, 3.1]))]), DIFFERENCE([T([1, 2, 3])([1.175, 0.1, 2.875])(R([2, 3])(PI / 2)\n",
    "           (MY_CYLINDER([0.225, 0.1])(16))), CUBOID([1.6, 0.1, 2.875])])])\n",
    "\n",
    "    finalDet2 = STRUCT([T(1)(0.3)(det2), T(1)(2.4)(det2), T(1)(8.4)(det2), T(1)(10.5)(det2)])\n",
    "    finalDet3 = T([2, 3])([-0.1, 0.5])(STRUCT([DIFFERENCE([CUBOID([1.6, 0.1, 3.95]), det3]), T([1, 3])([0.3, 4.5])\n",
    "                                                (CUBOID([1, 0.1, 1]))]))\n",
    "    detailsWall = TEXTURE(\"marmo.png\")(STRUCT([T(1)(0.3)(finalDet3), T(1)(2.4)(finalDet3), T(1)(8.4)(finalDet3), T(1)(10.5)(finalDet3)]))\n",
    "    window = MY_CYLINDER([0.225, 13])(16)\n",
    "    windows = T([2, 3])([12.8, 5.5])(R([2, 3])(PI / 2)(STRUCT([T(1)(1.1)(window), T(1)(3.2)(window), T(1)(9.2)(window),\n",
    "                                                               T(1)(11.3)(window)])))\n",
    "\n",
    "    holeWall = STRUCT([T([1, 2])([3.9, -2.3])(CUBOID([4.6, 4.6, 4.74])), T([1, 2, 3])([4.8, -1.4, 4.74])\n",
    "                            (CUBOID([2.8, 2.8, 0.35])), T([1, 2, 3])([6.2, -0.7, 5.09])(MY_CYLINDER([1.23, 3])(16))])\n",
    "\n",
    "    lateral = INTERSECTION([wall, holeWall])\n",
    "    lateralHoleWall = STRUCT([lateral, T(2)(-0.2)(lateral), T(2)(-0.4)(lateral)])\n",
    "\n",
    "    finalWall = TEXTURE(\"marmo.png\")(DIFFERENCE([STRUCT([wall, det1, col, detailsWall]), STRUCT([finalDet2, windows, lateralHoleWall])]))\n",
    "    bigWall = STRUCT(\n",
    "        [finalWall, T(1)(12.4)(R([1, 2])(PI / 2)(finalWall)), T([1, 2])([12.4, 12.4])(R([1, 2])(PI)(finalWall)),\n",
    "         T(2)(12.4)(R([1, 2])(3 * PI / 2)(finalWall)), intWalls, mediumTowers])\n",
    "\n",
    "    return bigWall"
   ]
  },
  {
   "cell_type": "markdown",
   "metadata": {},
   "source": [
    "![alt text](bigWall.png \"Title\")"
   ]
  },
  {
   "cell_type": "markdown",
   "metadata": {},
   "source": [
    "Final function that generates 3D model of Leonardo's church by taking the distances along the x, y and z axis"
   ]
  },
  {
   "cell_type": "code",
   "execution_count": null,
   "metadata": {
    "collapsed": true
   },
   "outputs": [],
   "source": [
    "def ggpl_leonardoChurch(dx, dy, dz):\n",
    "    \"\"\" This function returns  details of a simple tower\n",
    "                    :param dx: distance along the x axis\n",
    "                    :param dy: distance along the y axis\n",
    "                    :param dz: distance along the z axis\n",
    "                    :return: an object HPC\"\"\"\n",
    "    wall = bigWall()\n",
    "    roof = TEXTURE(\"marmo.png\")(T([1, 2, 3])([-0.3, -0.3, 6.3])(STRUCT([T(3)(0.2)(CUBOID([13, 13, 0.3])),\n",
    "                                                   T([1, 2])([0.15, 0.15])(DIFFERENCE([CUBOID([12.7, 12.7, 0.2]),\n",
    "                                                                                       T([1, 2])([0.15, 0.15])(CUBOID(\n",
    "                                                                                           [12.4, 12.4, 0.2]))]))])))\n",
    "\n",
    "    holeRoof = STRUCT([T([1, 2, 3])([2, 2, 6.5])(MY_CYLINDER([1.4, 0.4])(16)), T([1, 2, 3])([2, 10.4, 6.5])\n",
    "                        (MY_CYLINDER([1.4, 0.4])(16)), T([1, 2, 3])([10.4, 2, 6.5])(MY_CYLINDER([1.4, 0.4])(16)),\n",
    "                        T([1, 2, 3])([10.4, 10.4, 6.5])(MY_CYLINDER([1.4, 0.4])(16)), T([1, 2, 3])([6.2, 6.2, 6.5])\n",
    "                       (MY_CYLINDER([3, 0.4])(16))])\n",
    "\n",
    "    holeWall = STRUCT([T([1, 2])([3.9, -2.3])(CUBOID([4.6, 4.6, 4.74])), T([1, 2, 3])([4.8, -1.4, 4.74])\n",
    "                        (CUBOID([2.8, 2.8, 0.35])), T([1, 2, 3])([6.2, -0.7, 5.09])(MY_CYLINDER([1.23, 3])(16))])\n",
    "\n",
    "    lateral = INTERSECTION([wall, holeWall])\n",
    "    lateralHoleWall = STRUCT([lateral, T(2)(-0.2)(lateral), T(2)(-0.4)(lateral)])\n",
    "\n",
    "    finalLateralHole = STRUCT([lateralHoleWall, T(1)(-0.2)(R([1, 2])(PI / 2)(lateralHoleWall)),\n",
    "                               T(2)(12.6)(lateralHoleWall), T(1)(12.4)(R([1, 2])(PI / 2)(lateralHoleWall))])\n",
    "    finalRoof = TEXTURE(\"marmo.png\")(DIFFERENCE([roof, STRUCT([holeRoof, finalLateralHole])]))\n",
    "\n",
    "    mediumTower = STRUCT([T(3)(6.8)(mediumTowerB(1.6, 1.4, 1.5)(0.25, 0.25, 0.1, 0.25)), TEXTURE(\"tegole2.png\")\n",
    "                            (T(3)(8.8)(HALFSPHERE(1.6)([16, 16])))])\n",
    "\n",
    "    mediumTowers = STRUCT([T([1, 2])([2, 2])(mediumTower), T([1, 2])([2, 10.4])(mediumTower), T([1, 2])([10.4, 2])\n",
    "                            (mediumTower), T([1, 2])([10.4, 10.4])(mediumTower)])\n",
    "\n",
    "    bigTw = STRUCT([T([1, 2, 3])([6.2, 6.2, 6.8])(bigTower(3, 2.8, 3)(0.5, 0.5, 0.2, 0.35)), T([1,2, 3])\n",
    "                        ([6.2, 6.2, 10.8])(TEXTURE(\"tegole2.png\")(HALFSPHERE(2.8)([16, 16])))])\n",
    "    structure_5tower = structure_5towers()\n",
    "    lateralStructures  = STRUCT([T([1, 2])([2.6, -4.5])(structure_5tower), T([1, 2])([2.7, 2.6])(R([1, 2])(PI/2)(structure_5tower)),\n",
    "                                 T([1, 2])([16.9, 2.6])(R([1, 2])(PI/2)(structure_5tower)), T([1, 2])([2.6, 9.7])(structure_5tower)])\n",
    "\n",
    "    floor = TEXTURE(\"marmo.png\")(T([1, 2])([-0.25, -0.25])(CUBOID([12.9, 12.9, 0.4])))\n",
    "    base = TEXTURE(\"marmo.png\")(STRUCT([T([1,2])([-3.2, -3.2])(CUBOID([18.8, 18.8, 0.5])), T([1,2])([1.6, -5.5])(CUBOID([9.8, 23.4, 0.5])),\n",
    "                   T([1,2])([-5.5, 1.6])(CUBOID([23.4, 9.8, 0.5]))]))\n",
    "    finalStructure = STRUCT([wall, mediumTowers, bigTw, finalRoof])\n",
    "    church = T([1, 2])([5.5, 5.5])(STRUCT([T(3)(0.9)(finalStructure), T(3)(0.5)(floor), base, T(3)(0.5)(lateralStructures)]))\n",
    "    return S([1, 2, 3])([double(dx/23.4), double(dy/23.4), double(dz/16.35)])(church)\n"
   ]
  },
  {
   "cell_type": "code",
   "execution_count": null,
   "metadata": {
    "collapsed": true
   },
   "outputs": [],
   "source": [
    "dx, dy, dz = 23.4, 23.4, 16.35\n",
    "VIEW(ggpl_leonardoChurch(dx, dy, dz))"
   ]
  },
  {
   "cell_type": "markdown",
   "metadata": {},
   "source": [
    "                                Front view of 3D model of Leonardo's centralized church scheme"
   ]
  },
  {
   "cell_type": "markdown",
   "metadata": {},
   "source": [
    "![alt text](final1.png \"Title\")"
   ]
  },
  {
   "cell_type": "markdown",
   "metadata": {},
   "source": [
    "                                Side view of 3D model of Leonardo's centralized church scheme"
   ]
  },
  {
   "cell_type": "markdown",
   "metadata": {},
   "source": [
    "![alt text](final2.png \"Title\")"
   ]
  },
  {
   "cell_type": "markdown",
   "metadata": {},
   "source": [
    "                               View from top of 3D model of Leonardo's centralized church scheme"
   ]
  },
  {
   "cell_type": "markdown",
   "metadata": {},
   "source": [
    "![alt text](final3.png \"Title\")"
   ]
  },
  {
   "cell_type": "markdown",
   "metadata": {},
   "source": [
    "                    Bottom view of 3D model of Leonardo's centralized church scheme and also the interior"
   ]
  },
  {
   "cell_type": "markdown",
   "metadata": {},
   "source": [
    "![alt text](final4.png \"Title\")"
   ]
  },
  {
   "cell_type": "markdown",
   "metadata": {},
   "source": [
    "Execution of the final function with different parameters to the real one"
   ]
  },
  {
   "cell_type": "code",
   "execution_count": null,
   "metadata": {
    "collapsed": true
   },
   "outputs": [],
   "source": [
    "dx, dy, dz = 11.7, 11.7, 8.175\n",
    "VIEW(ggpl_leonardoChurch(dx, dy, dz))\n"
   ]
  },
  {
   "cell_type": "markdown",
   "metadata": {},
   "source": [
    "![alt text](final5_dp.png \"Title\")"
   ]
  },
  {
   "cell_type": "code",
   "execution_count": null,
   "metadata": {
    "collapsed": true
   },
   "outputs": [],
   "source": []
  }
 ],
 "metadata": {
  "kernelspec": {
   "display_name": "Python 2",
   "language": "python",
   "name": "python2"
  },
  "language_info": {
   "codemirror_mode": {
    "name": "ipython",
    "version": 2
   },
   "file_extension": ".py",
   "mimetype": "text/x-python",
   "name": "python",
   "nbconvert_exporter": "python",
   "pygments_lexer": "ipython2",
   "version": "2.7.12"
  }
 },
 "nbformat": 4,
 "nbformat_minor": 1
}
