{
 "cells": [
  {
   "cell_type": "markdown",
   "metadata": {},
   "source": [
    "![alt text](titlew5.png \"Title\")"
   ]
  },
  {
   "cell_type": "markdown",
   "metadata": {},
   "source": [
    "![alt text](titlew51.png \"Title\")"
   ]
  },
  {
   "cell_type": "markdown",
   "metadata": {},
   "source": [
    "![alt text](figw5_001.png \"Title\")"
   ]
  },
  {
   "cell_type": "markdown",
   "metadata": {},
   "source": [
    "Villa La Rotonda is a Renaissance villa just outside Vicenza in northern Italy, and designed by Andrea Palladio. The proper name is Villa Almerico Capra Valmarana, but it is also known as La Rotonda, Villa Rotonda, Villa Capra and Villa Almerico. The name \"Capra\" derives from the Capra brothers, who completed the building after it was ceded to them in 1592. Along with other works by Palladio, the building is conserved as part of the World Heritage Site \"City of Vicenza and the Palladian Villas of the Veneto\".\n",
    "The design is for a completely symmetrical building having a square plan with four facades, each of which has a projecting portico. The whole is contained within an imaginary circle which touches each corner of the building and centres of the porticos. (illustration, left). The name La Rotonda refers to the central circular hall with its dome. To describe the villa, as a whole, as a 'rotonda' is technically incorrect, as the building is not circular but rather the intersection of a square with a cross. Each portico has steps leading up to it, and opens via a small cabinet or corridor to the circular domed central hall. This and all other rooms were proportioned with mathematical precision according to Palladio's own rules of architecture which he published in the Quattro Libri dell'Architettura.\n",
    "\n",
    "The design reflected the humanist values of Renaissance architecture. In order for each room to have some sun, the design was rotated 45 degrees from each cardinal point of the compass. Each of the four porticos has pediments graced by statues of classical deities. The pediments were each supported by six Ionic columns. Each portico was flanked by a single window. All principal rooms were on the second floor or piano nobile.\n",
    "\n",
    "Building began in 1567. Neither Palladio nor the owner, Paolo Almerico, were to see the completion of the villa. Palladio died in 1580 and a second architect, Vincenzo Scamozzi, was employed by the new owners to oversee the completion. One of the major changes he made to the original plan was to modify the two-storey central hall.\n",
    "Palladio had intended it to be covered by a high semi-circular dome but Scamozzi designed a lower dome with an oculus (intended to be open to the sky) inspired by the Pantheon in Rome. \n",
    "\n",
    "The interior design of the Villa was to be as wonderful, if not more so, than the exterior. Alessandro and Giovanni Battista Maganza and Anselmo Canera were commissioned to paint frescoes in the principal salons.\n",
    "\n",
    "Among the four principal salons on the piano nobile are the West Salon (also called the Holy Room, because of the religious nature of its frescoes and ceiling), and the East Salon, which contains an allegorical life story of the first owner Paolo Almerico, his many admirable qualities portrayed in fresco.\n",
    "\n",
    "The highlight of the interior is the central, circular hall, surrounded by a balcony and covered by the domed ceiling; it soars the full height of the main house up to the cupola, with walls decorated in trompe l'oeil. Abundant frescoes create an atmosphere that is more reminiscent of a cathedral than the principal salon of a country house.\n"
   ]
  },
  {
   "cell_type": "markdown",
   "metadata": {},
   "source": [
    "![alt text](figw5_002.png \"Title\")"
   ]
  },
  {
   "cell_type": "markdown",
   "metadata": {},
   "source": [
    "![alt text](figw5_003.png \"Title\")"
   ]
  },
  {
   "cell_type": "markdown",
   "metadata": {},
   "source": [
    "- Draw wire-frame plans with a drawing program, in scale\n",
    "- Export each plan to SVG file\n",
    "- Transform the .svg into a .lines file using https://github.com/cvdlab/svg2lines tool\n",
    "- Produce a (V,EV) larlib model of schematic plans in a python cell"
   ]
  },
  {
   "cell_type": "markdown",
   "metadata": {},
   "source": [
    "The function that generates the villa takes at most one minute to be performed."
   ]
  },
  {
   "cell_type": "code",
   "execution_count": 1,
   "metadata": {
    "collapsed": false
   },
   "outputs": [
    {
     "name": "stdout",
     "output_type": "stream",
     "text": [
      "Evaluating fenvs.py..\n",
      "...fenvs.py imported in 0.0255030564553 seconds\n"
     ]
    },
    {
     "name": "stderr",
     "output_type": "stream",
     "text": [
      "c:\\python27\\lib\\site-packages\\larlib\\larstruct.py:233: FutureWarning: comparison to `None` will result in an elementwise object comparison in the future.\n",
      "  self.body = [item for item in data if item != None]\n"
     ]
    }
   ],
   "source": [
    "from larlib import *\n",
    "from numpy import *\n",
    "import csv"
   ]
  },
  {
   "cell_type": "markdown",
   "metadata": {},
   "source": [
    "We start by defining a function that reads a file.lines and draws lines with a given height as a parameter."
   ]
  },
  {
   "cell_type": "code",
   "execution_count": null,
   "metadata": {
    "collapsed": true
   },
   "outputs": [],
   "source": [
    "def fileReader(filename,h):\n",
    "    \"\"\"this function reads a file and draws lines lo on the x and y plane and then expands them on the z coordinate of the quantity h.\n",
    "            :param filename: name of the file that contains lines\n",
    "            :param h: height of the wall\n",
    "            :return: an HPC object\"\"\"\n",
    "    \n",
    "    with open(filename, \"rb\") as file:\n",
    "        reader = csv.reader(file, delimiter=\",\")\n",
    "        externalWalls = []\n",
    "\n",
    "        for row in reader:\n",
    "            x1 = float(row[0])\n",
    "            x2 = float(row[1])\n",
    "            y1 = float(row[2])\n",
    "            y2 = float(row[3])\n",
    "            externalWalls.append(OFFSET([0.15, 0.15])(POLYLINE([[x1, y1], [x2, y2]])))\n",
    "        walls = PROD([STRUCT(externalWalls), Q(h)])\n",
    "\n",
    "    return walls"
   ]
  },
  {
   "cell_type": "markdown",
   "metadata": {},
   "source": [
    "![alt text](figw5_004.png \"Title\")"
   ]
  },
  {
   "cell_type": "markdown",
   "metadata": {},
   "source": [
    "We define auxiliary functions for the creation of doors and windows that will fill in the blanks left to the doors and windows. Finally we define the function that generates the ground floor."
   ]
  },
  {
   "cell_type": "code",
   "execution_count": null,
   "metadata": {
    "collapsed": true
   },
   "outputs": [],
   "source": [
    "def movingStructureBuilder(X, Y, Z, B, type):\n",
    "        \"\"\"\n",
    "        :param X: a list of distances on the X axis\n",
    "        :param Y: a list of distances on the Y axis\n",
    "        :param Z: a list of distances on the Z axis\n",
    "        :param B: a three-dimensional matrix of occupancy\n",
    "        :param type: window or door\n",
    "        :return: a 2nd order function\n",
    "        \"\"\"\n",
    "        struct = []\n",
    "        x = 0\n",
    "        for l in range(0, len(B)):  # for each x\n",
    "            y = 0\n",
    "            for w in range(0, len(B[l])):  # for each y\n",
    "                z = 0\n",
    "                for h in range(0, len(B[l][w])):  # for each z\n",
    "                    if (w > 0) and (w < len(B[l]) - 1):\n",
    "                        if ((B[l][w][h] is True) and (B[l][w - 1][h] is False) and (B[l][w + 1][h] is False)):\n",
    "                            if(type ==\"window\"):\n",
    "                                struct.append(TEXTURE(\"grass3.png\")(T([1, 2, 3])([x, y, z])(CUBOID([X[l], Y[w], Z[h]]))))\n",
    "                            elif type == \"door\":\n",
    "                                struct.append(TEXTURE(\"wood2.png\")(T([1, 2, 3])([x, y, z])(CUBOID([X[l], Y[w], Z[h]]))))\n",
    "                        elif (B[l][w][h]):\n",
    "                            struct.append(TEXTURE(\"wood2.png\")(T([1, 2, 3])([x, y, z])(CUBOID([X[l], Y[w], Z[h]]))))\n",
    "                    elif (B[l][w][h]):\n",
    "                        struct.append(TEXTURE(\"wood2.png\")(T([1, 2, 3])([x, y, z])(CUBOID([X[l], Y[w], Z[h]]))))\n",
    "\n",
    "                    z += Z[h]\n",
    "                y += Y[w]\n",
    "            x += X[l]\n",
    "        pol = STRUCT(struct)\n",
    "\n",
    "        return pol\n"
   ]
  },
  {
   "cell_type": "code",
   "execution_count": null,
   "metadata": {
    "collapsed": true
   },
   "outputs": [],
   "source": [
    "def window(type):\n",
    "    \"\"\"the function returns a window of the desired type\n",
    "            :param type: type of the window\n",
    "            :return: an HPC object\"\"\"\n",
    "\n",
    "    if type ==1:\n",
    "        wx = [0.04,0.14,0.04,0.14,0.04]\n",
    "        wy = [0.04,0.02,0.04]\n",
    "        wz = [0.04,0.6,0.04,0.18,0.04]\n",
    "        wb = [[[True,True,True,True,True],[True,True,True,True,True],[True,True,True,True,True]],\n",
    "              [[True,False,True,False,True],[True,True,True,False,True],[True,False,True,False,True]],\n",
    "              [[True,True,True,False,True],[True,True,True,False,True],[True,True,True,False,True]],\n",
    "              [[True, False, True, False, True], [True, True, False, True, True], [True, False, True, False, True]],\n",
    "              [[True, True, True, True, True], [True, True, True, True, True], [True, True, True, True, True]]\n",
    "             ]\n",
    "        glass = TEXTURE(\"grass3.png\")(OFFSET([0,0.024,0])(MKPOL([[[0.04,0.038,0.68],[0.04,0.038,0.86],[0.36,0.038,0.86],\n",
    "                                                                  [0.36,0.038,0.68]],[[1,2,3,4]],[[1]]])))\n",
    "        return STRUCT([movingStructureBuilder(wx, wy, wz, wb,\"window\"),glass])\n",
    "    elif type == 2:\n",
    "        wx = [0.04,0.145,0.03,0.145,0.04]\n",
    "        wy = [0.04,0.02,0.04]\n",
    "        wz = [0.04,0.22,0.04]\n",
    "        wb = [[[True,True,True],[True,True,True],[True,True,True]],\n",
    "              [[True,False,True],[True,True,True],[True,False,True]],\n",
    "              [[True,True,True],[True,True,True],[True,True,True]],\n",
    "              [[True, False, True], [True, True, True], [True, False, True]],\n",
    "              [[True, True, True], [True, True, True], [True, True, True]]\n",
    "              ]\n",
    "        return movingStructureBuilder(wx, wy, wz, wb,\"window\")\n",
    "    elif type ==3:\n",
    "        wx = [0.03,0.052,0.02,0.052,0.02,0.052,0.02,0.052,0.02,0.052,0.03]\n",
    "        wy = [0.02,0.01,0.02]\n",
    "        wz = [0.03,0.032,0.02,0.032,0.02,0.032,0.02,0.032,0.02,0.032,0.03]\n",
    "        wb = [[[True,True,True,True,True,True,True,True,True,True,True],\n",
    "              [True, True, True, True, True, True, True, True, True, True, True],\n",
    "              [True, True, True, True, True, True, True, True, True, True, True]],\n",
    "              [[True,False,True,False,True,False,True,False,True,False,True],\n",
    "               [True, True, True, True, True, True, True, True, True, True, True],\n",
    "               [True, False, True, False, True, False, True, False, True, False, True]],\n",
    "              [[True, True, True, True, True, True, True, True, True, True, True],\n",
    "               [True, True, True, True, True, True, True, True, True, True, True],\n",
    "               [True, True, True, True, True, True, True, True, True, True, True]],\n",
    "              [[True, False, True, False, True, False, True, False, True, False, True],\n",
    "               [True, True, True, True, True, True, True, True, True, True, True],\n",
    "               [True, False, True, False, True, False, True, False, True, False, True]],\n",
    "              [[True, True, True, True, True, True, True, True, True, True, True],\n",
    "               [True, True, True, True, True, True, True, True, True, True, True],\n",
    "               [True, True, True, True, True, True, True, True, True, True, True]],\n",
    "              [[True, False, True, False, True, False, True, False, True, False, True],\n",
    "               [True, True, True, True, True, True, True, True, True, True, True],\n",
    "               [True, False, True, False, True, False, True, False, True, False, True]],\n",
    "              [[True, True, True, True, True, True, True, True, True, True, True],\n",
    "               [True, True, True, True, True, True, True, True, True, True, True],\n",
    "               [True, True, True, True, True, True, True, True, True, True, True]],\n",
    "              [[True, False, True, False, True, False, True, False, True, False, True],\n",
    "               [True, True, True, True, True, True, True, True, True, True, True],\n",
    "               [True, False, True, False, True, False, True, False, True, False, True]],\n",
    "              [[True, True, True, True, True, True, True, True, True, True, True],\n",
    "               [True, True, True, True, True, True, True, True, True, True, True],\n",
    "               [True, True, True, True, True, True, True, True, True, True, True]],\n",
    "              [[True, False, True, False, True, False, True, False, True, False, True],\n",
    "               [True, True, True, True, True, True, True, True, True, True, True],\n",
    "               [True, False, True, False, True, False, True, False, True, False, True]],\n",
    "              [[True, True, True, True, True, True, True, True, True, True, True],\n",
    "               [True, True, True, True, True, True, True, True, True, True, True],\n",
    "               [True, True, True, True, True, True, True, True, True, True, True]]\n",
    "              ]\n",
    "        return movingStructureBuilder(wx, wy, wz, wb,\"window\")\n",
    "    elif type ==4:\n",
    "        wx = [0.02,0.12,0.02,0.12,0.02]\n",
    "        wy = [0.03,0.015,0.03]\n",
    "        wz = [0.035,0.6,0.04,0.19,0.035]\n",
    "        wb = [[[True,True,True,True,True],[True,True,True,True,True],[True,True,True,True,True]],\n",
    "              [[True,False,True,False,True],[True,True,True,False,True],[True,False,True,False,True]],\n",
    "              [[True,True,True,False,True],[True,True,True,False,True],[True,True,True,False,True]],\n",
    "              [[True, False, True, False, True], [True, True, False, True, True], [True, False, True, False, True]],\n",
    "              [[True, True, True, True, True], [True, True, True, True, True], [True, True, True, True, True]]\n",
    "             ]\n",
    "        glass = TEXTURE(\"grass3.png\")(OFFSET([0,0.019,0])(MKPOL([[[0.02,0.028,0.675],[0.02,0.028,0.865],[0.28,0.028,0.865],\n",
    "                                                                  [0.28,0.028,0.675]],[[1,2,3,4]],[[1]]])))\n",
    "        return STRUCT([movingStructureBuilder(wx, wy, wz, wb,\"window\"),glass])\n",
    "\n"
   ]
  },
  {
   "cell_type": "code",
   "execution_count": null,
   "metadata": {
    "collapsed": true
   },
   "outputs": [],
   "source": [
    "def puerta(type):\n",
    "    \"\"\"the function returns a door of the desired type\n",
    "                :param type: type of the door\n",
    "                :return: an HPC object\"\"\"\n",
    "\n",
    "    if type == 1:\n",
    "        wx = [0.04, 0.24, 0.04, 0.24, 0.04]\n",
    "        wy = [0.02, 0.06, 0.02]\n",
    "        wz = [0.04, 0.45, 0.04, 0.45, 0.08, 0.3, 0.04]\n",
    "        wb = [[[True, True, True, True, True, True, True],\n",
    "               [True, True, True, True, True, True, True],\n",
    "               [True, True, True, True, True, True, True]\n",
    "               ],\n",
    "              [[True, False, True, False, True, False, True],\n",
    "               [True, True, True, True, True, True, True],\n",
    "               [True, False, True, False, True, False, True]\n",
    "               ],\n",
    "              [[True, True, True, True, True, True, True],\n",
    "               [True, True, True, True, True, True, True],\n",
    "               [True, True, True, True, True, True, True]\n",
    "               ],\n",
    "              [[True, False, True, False, True, False, True],\n",
    "               [True, True, True, True, True, True, True],\n",
    "               [True, False, True, False, True, False, True]\n",
    "               ],\n",
    "              [[True, True, True, True, True, True, True],\n",
    "               [True, True, True, True, True, True, True],\n",
    "               [True, True, True, True, True, True, True]\n",
    "               ]\n",
    "              ]\n",
    "\n",
    "        return movingStructureBuilder(wx, wy, wz, wb,\"door\")\n",
    "\n",
    "    elif type == 2:\n",
    "        wx = [0.05, 0.225, 0.05, 0.225, 0.05]\n",
    "        wy = [0.02, 0.06, 0.02]\n",
    "        wz = [0.05, 0.375, 0.05, 0.375, 0.05]\n",
    "        wb = [[[True, True, True, True, True],[True, True, True, True, True],[True, True, True, True, True]],\n",
    "              [[True, False, True, False, True],[True, True, True, True, True],[True, False, True, False, True]],\n",
    "              [[True, True, True, True, True],[True, True, True, True, True],[True, True, True, True, True]],\n",
    "              [[True, False, True, False, True],[True, True, True, True, True],[True, False, True, False, True]],\n",
    "              [[True, True, True, True, True],[True, True, True, True, True],[True, True, True, True, True]]\n",
    "             ]\n",
    "\n",
    "        return movingStructureBuilder(wx, wy, wz, wb,\"door\")\n",
    "\n",
    "    elif type ==3:\n",
    "\n",
    "        wx = [0.05,0.3,0.05]\n",
    "        wy = [0.02,0.06,0.02]\n",
    "        wz = [0.95,0.05]\n",
    "        wb = [[[True,True],[True,True],[True,True]],\n",
    "              [[False,True],[True,True],[False,True]],\n",
    "              [[True,True],[True,True],[True,True]]\n",
    "              ]\n",
    "        return movingStructureBuilder(wx, wy, wz, wb,\"door\")\n",
    "\n",
    "    elif type == 4:\n",
    "        wx = [0.03, 0.24, 0.03]\n",
    "        wy = [0.02, 0.04, 0.02]\n",
    "        wz = [0.72, 0.03]\n",
    "        wb = [[[True, True], [True, True], [True, True]],\n",
    "              [[False, True], [True, True], [False, True]],\n",
    "              [[True, True], [True, True], [True, True]]\n",
    "              ]\n",
    "        return movingStructureBuilder(wx, wy, wz, wb,\"door\")\n",
    "\n",
    "    else:\n",
    "        wx = [0.05, 0.35, 0.05]\n",
    "        wy = [0.02, 0.06, 0.02]\n",
    "        wz = [0.95, 0.05]\n",
    "        wb = [[[True, True], [True, True], [True, True]],\n",
    "              [[False, True], [True, True], [False, True]],\n",
    "              [[True, True], [True, True], [True, True]]\n",
    "              ]\n",
    "        return movingStructureBuilder(wx, wy, wz, wb,\"door\")\n"
   ]
  },
  {
   "cell_type": "code",
   "execution_count": null,
   "metadata": {
    "collapsed": true
   },
   "outputs": [],
   "source": [
    "def groundFloor():\n",
    "\n",
    "    walls = fileReader(\"walls.lines\", 1.1)\n",
    "    det1 = T([1,2])([-0.03,-0.03])(CUBOID([7.41, 0.03,0.5]))\n",
    "    det2 = T([1,2])([-0.06,-0.06])(CUBOID([7.47, 0.03,0.3]))\n",
    "    det3 = T([1, 2, 3])([-0.06, -0.06, 0.95])(CUBOID([7.47, 0.06, 0.15]))\n",
    "    detailWall1 = STRUCT([det1, T(2)(7.38)(det1), T(1)(-0.03)(R([1,2])(PI/2)(det1)), T(1)(7.35)(R([1,2])(PI/2)(det1))])\n",
    "    detailWall2 = STRUCT([det2, T(2)(7.44)(det2), T(1)(-0.09)(R([1,2])(PI/2)(det2)), T(1)(7.35)(R([1,2])(PI/2)(det2))])\n",
    "    detailWall3 = STRUCT([det3, T(2)(7.41)(det3), T(1)(-0.06)(R([1, 2])(PI / 2)(det3)), T(1)(7.35)(R([1, 2])(PI / 2)(det3))])\n",
    "\n",
    "    door = CUBOID([0.6, 0.21, 0.9])\n",
    "    doors_hole = STRUCT([T([1, 2])([3.4, -0.06])(door), T([1, 2])([3.4, 7.2])(door),\n",
    "                         T([1, 2])([0.15, 3.4])(R([1, 2])(PI / 2)(door)),\n",
    "                         T([1, 2])([7.41, 3.4])(R([1, 2])(PI / 2)(door))])\n",
    "\n",
    "    inDoor = STRUCT([R([1, 2])(PI / 4)(T([1, 2])([3.1, -0.15])(CUBOID([4.2, 0.3, 0.75]))),\n",
    "                     T(1)(7.4)(R([1, 2])(3 * PI / 4)(T([1, 2])([3.1, -0.15])(CUBOID([4.2, 0.3, 0.75])))),\n",
    "                     T([1,2])([3.4, 1.85])(OFFSET([0.0, 4.0])(door)),\n",
    "                     T([1, 2])([1.7, 4.05])(R([1, 2])(-PI / 2)(OFFSET([0.0, 4.0])(S(1)([0.75 / 0.6])(door))))])\n",
    "\n",
    "    center = DIFFERENCE([T([1, 2])([3.7, 3.675])(DIFFERENCE([MY_CYLINDER([1.71, 1.1])(32),MY_CYLINDER([1.21, 1.1])(32)]))])\n",
    "\n",
    "    holes = STRUCT([fileReader(\"internalDoors.lines\", 1), T(3)(0.575)(fileReader(\"windows2.lines\", 0.3)), doors_hole,\n",
    "                    inDoor])\n",
    "    floor = STRUCT([TEXTURE(\"marmo_rosso2.png\")(T(3)(-0.005)(CUBOID([7.35, 7.35, 0.005]))),\n",
    "                    COLOR([1,0.808,0.6])(T(3)(-0.012)(CUBOID([7.35, 7.35, 0.005])))])\n",
    "    finalGroundFloor = COLOR([1, 0.855, 0.702])(DIFFERENCE([STRUCT([walls, center]), holes]))\n",
    "    finalDetails = COLOR([1,0.808,0.6])(DIFFERENCE([STRUCT([detailWall1, detailWall2, detailWall3]), holes]))\n",
    "    w1 = T([2, 3])([0.02, 0.575])(window(3))\n",
    "    detw1 = STRUCT([T(1)(0.6)(w1), T(1)(2.1)(w1), T(1)(4.9)(w1),T(1)(6.35)(w1)])\n",
    "    detw2 = STRUCT([T([1,2])([0.07,0.8])(R([1, 2])(PI / 2)(w1)), T([1,2])([0.07,2.1])(R([1, 2])(PI / 2)(w1)),\n",
    "                    T([1, 2])([0.07, 4.9])(R([1, 2])(PI / 2)(w1)),T([1,2])([0.07,6.1])(R([1, 2])(PI / 2)(w1))])\n",
    "\n",
    "    finalDetw = STRUCT([detw1, T(1)(0.02)(detw2), T(2)(7.26)(detw1), T(1)(7.28)(detw2)])\n",
    "\n",
    "    d1 = T(1)(3.4)(puerta(2))\n",
    "    finalDetd = STRUCT([d1, T(1)(7.35)(R([1, 2])(PI / 2)(d1)), T(2)(7.4)(R([1, 2])(-PI / 2)(d1)),\n",
    "                        T([1, 2])([7.4, 7.35])(R([1, 2])(PI)(d1))])\n",
    "    p = puerta(3)\n",
    "    p_v = STRUCT([T([1,2])([0.6,1.875])(p),T([1,2])([0.6,3.175])(p),T([1,2])([0.6,4.075])(p),T([1,2])([0.6,5.375])(p)])\n",
    "    p_h = STRUCT([T([1,2])([2.975,0.75])(R([1,2])(PI/2)(puerta(5))),T([1,2])([2.975,6.15])(R([1,2])(PI/2)(puerta(5)))])\n",
    "    finalIntDoors = STRUCT([p_v,p_h,T(1)(5.8)(p_v),T(1)(1.525)(p_h)])\n",
    "\n",
    "    intd = T([1, 2])([1.2, 0.15])(R([1, 2])(-PI / 2)(puerta(4)))\n",
    "    finalIntd = STRUCT([R([1, 2])(PI / 4)(intd), R([1, 2])(3 * PI / 4)(T([1, 2])([0.096, 0.085])(intd)),\n",
    "                        R([1, 2])(-3 * PI / 4)(T([1, 2])([0.205, -0.002])(intd)),\n",
    "                        R([1, 2])(-PI / 4)(T([1, 2])([0.1165, -0.086])(intd))])\n",
    "    return STRUCT([finalGroundFloor, floor, finalDetw, finalDetd, finalIntDoors,T([1,2])([3.76,3.76])(finalIntd),finalDetails])\n",
    "\n",
    "VIEW(STRUCT([puerta(2), T(1)(2)(window(2)),T(4)(puerta(3))]))\n",
    "VIEW(groundFloor())"
   ]
  },
  {
   "cell_type": "markdown",
   "metadata": {},
   "source": [
    "Ground floor without doors and windows"
   ]
  },
  {
   "cell_type": "markdown",
   "metadata": {},
   "source": [
    "![alt text](figw5_1.png \"Title\")"
   ]
  },
  {
   "cell_type": "markdown",
   "metadata": {},
   "source": [
    "Doors and windows of the ground floor"
   ]
  },
  {
   "cell_type": "markdown",
   "metadata": {},
   "source": [
    "![alt text](figw5_2.png \"Title\")"
   ]
  },
  {
   "cell_type": "markdown",
   "metadata": {},
   "source": [
    "Ground floor with door and windows (external)"
   ]
  },
  {
   "cell_type": "markdown",
   "metadata": {},
   "source": [
    "![alt text](figw5_3.png \"Title\")"
   ]
  },
  {
   "cell_type": "markdown",
   "metadata": {},
   "source": [
    "Ground floor with door and windows (internal)"
   ]
  },
  {
   "cell_type": "markdown",
   "metadata": {},
   "source": [
    "![alt text](figw5_4.png \"Title\")"
   ]
  },
  {
   "cell_type": "markdown",
   "metadata": {},
   "source": [
    "![alt text](figw5_005.png \"Title\")"
   ]
  },
  {
   "cell_type": "markdown",
   "metadata": {},
   "source": [
    "We define auxiliary functions for the creation of the details of doors and windows and also the stairs and the dome. Finally we define the function that generates the first floor."
   ]
  },
  {
   "cell_type": "code",
   "execution_count": null,
   "metadata": {
    "collapsed": true
   },
   "outputs": [],
   "source": [
    "def detailWindow(type):\n",
    "    \"\"\"the function returns a detail of window of the desired type\n",
    "                    :param type: type of the detail of window\n",
    "                    :return: an HPC object\"\"\"\n",
    "    if type == 1:\n",
    "        det1 = T(3)(0.25)(CUBOID([0.58,0.05,0.05]))\n",
    "        det2 = T([1,2,3])([0.03,0.01,0.2])(CUBOID([0.52,0.04,0.05]))\n",
    "        det3 = OFFSET([0,0.03,0])(MKPOL([[[0.03,0.02,0.2],[0.04,0.02,0.15],[0.54,0.02,0.15],[0.55,0.02,0.2]],[[1,2,3,4]],[[1]]]))\n",
    "        holeWindow = T([1, 3])([0.09, 0.3])(CUBOID([0.4, 0.2, 0.9]))\n",
    "        det4 = DIFFERENCE([T([1,2,3])([0.03,0.01,0.3])(CUBOID([0.52,0.04,1.02])), holeWindow])\n",
    "        finalDet1 = STRUCT([T([2,3])([-0.02,1.12])(det2), T([2,3])([-0.04,1.17])(det2), det1, det2, det3, det4])\n",
    "\n",
    "        c1 = DIFFERENCE([T([2,3])([0.06,0.21])(R([1,3])(-PI/2)(MY_CYLINDER([0.06,0.05])(16))),T(2)(0.09)(CUBOID([0.05,0.1,0.27]))])\n",
    "        c2 = T([2, 3])([0.07, 0.03])(R([1, 3])(-PI / 2)(MY_CYLINDER([0.03, 0.05])(16)))\n",
    "        c3 = OFFSET([0.05,0,0])(MKPOL([[[0,0.09,0.03],[0,0.005,0.19],[0,0.045,0.19]],[[1,2,3]],[[1]]]))\n",
    "\n",
    "        finalDet2 = STRUCT([c1,c2,c3])\n",
    "\n",
    "        d1 = OFFSET([0,0.12,0])(MKPOL([[[0,0,0],[0.345,0,0.2],[0.69,0,0],[0.05,0,0],[0.343,0,0.17],[0.66,0,0],[0.06,0,0.03],\n",
    "                                        [0.63,0,0.03]],[[1,2,5,4],[2,3,6,5]],[[1]]]))\n",
    "        d2 = OFFSET([0,0.09,0])(MKPOL([[[0,0,0],[0.06,0,0.03],[0.63,0,0.03],[0.69,0,0]],[[1,2,3,4]],[[1]]]))\n",
    "\n",
    "        finalDet3 = STRUCT([d1, T(2)(0.03)(d2)])\n",
    "        finalWindow = T(2)(-0.12)(STRUCT([T(2)(0.07)(finalDet1), T([1,2,3])([-0.02,0.03,1.15])(finalDet2), T([1,2,3])([0.55,0.03,1.15])(finalDet2),\n",
    "                           T([1,3])([-0.055,1.42])(finalDet3)]))\n",
    "        return COLOR([1,0.808,0.6])(finalWindow)\n",
    "    elif type == 2:\n",
    "\n",
    "        d1 = T(2)(-0.04)(DIFFERENCE([T([1, 3])([-0.04, -0.04])(CUBOID([0.38, 0.04, 0.38])), CUBOID([0.3, 0.04, 0.3])]))\n",
    "        d2 = T([1, 2, 3])([-0.04, -0.07, 0.34])(CUBOID([0.38, 0.07, 0.04]))\n",
    "        d3 = T([1, 2, 3])([-0.12, -0.10, 0.38])(CUBOID([0.54, 0.10, 0.04]))\n",
    "        finalDet1 = STRUCT([d1, d2, d3])\n",
    "\n",
    "        c1 = DIFFERENCE([T([2, 3])([0.06, 0.21])(R([1, 3])(-PI / 2)(MY_CYLINDER([0.06, 0.05])(16))),\n",
    "                         T(2)(0.09)(CUBOID([0.05, 0.1, 0.27]))])\n",
    "        c2 = T([2, 3])([0.07, 0.03])(R([1, 3])(-PI / 2)(MY_CYLINDER([0.03, 0.05])(16)))\n",
    "        c3 = OFFSET([0.05, 0, 0])(MKPOL([[[0, 0.09, 0.03], [0, 0.005, 0.19], [0, 0.045, 0.19]], [[1, 2, 3]], [[1]]]))\n",
    "\n",
    "        finalDet2 = T([2, 3])([-0.09, 0.11])(STRUCT([c1, c2, c3]))\n",
    "\n",
    "        final = STRUCT([finalDet1, T(1)(-0.09)(finalDet2), T(1)(0.34)(finalDet2)])\n",
    "\n",
    "        return COLOR([1,0.808,0.6])(final)\n"
   ]
  },
  {
   "cell_type": "code",
   "execution_count": null,
   "metadata": {
    "collapsed": true
   },
   "outputs": [],
   "source": [
    "def detailDoor(type):\n",
    "    \"\"\"the function returns a detail of door of the desired type\n",
    "                :param type: type of the detail of door\n",
    "                :return: an HPC object\"\"\"\n",
    "    if type == 1:\n",
    "\n",
    "        det1 = STRUCT([T([1,2])([0.195,0.075])(CUBOID([0.72,0.08,1.52])), T([1,2])([0.135,0.115])(CUBOID([0.84,0.04,1.64]))])\n",
    "        finalDet1 = COLOR([1,0.808,0.6])(DIFFERENCE([det1,T(1)(0.255)(CUBOID([0.6,0.5,1.4]))]))\n",
    "\n",
    "        d1 = OFFSET([0.1,0,0])(MKPOL([[[0,0.135,0.03],[0,0.015,0.255],[0,0.08,0.255]],[[1,2,3]],[[1]]]))\n",
    "        d2 =DIFFERENCE([T([2,3])([0.09,0.3])(R([1,3])(-PI/2)(MY_CYLINDER([0.09,0.1])(16))), T(2)(0.135)(CUBOID([0.2,0.7,0.4]))])\n",
    "        d3 = T([2, 3])([0.105, 0.03])(R([1, 3])(-PI / 2)(MY_CYLINDER([0.03, 0.1])(16)))\n",
    "        finalDet2 = COLOR([1,0.808,0.6])(STRUCT([d1,d2,d3]))\n",
    "\n",
    "        c1 = T(2)(0.035)(OFFSET([0,0.12,0])(MKPOL([[[0,0,1.64],[0.555,0,1.87],[1.11,0,1.64],[1.035,0,1.64],[0.075,0,1.64],\n",
    "                                         [0.555,0,1.83]],[[1,2,6,5],[2,6,4,3]],[[1]]])))\n",
    "        c2 = T(2)(0.065)(OFFSET([0,0.09,0])(MKPOL([[[0,0,1.64],[0.1,0,1.68],[1.01,0,1.68],[1.11,0,1.64]],[[1,2,3,4]],[[1]]])))\n",
    "        c3 = COLOR([1,0.855,0.702])(T(2)(0.115)(OFFSET([0,0.04,0])(MKPOL([[[1.035,0,1.64],[0.075,0,1.64],[0.555,0,1.83]],[[1,2,3]],[[1]]]))))\n",
    "        detUp1 = []\n",
    "        detr = CUBOID([0.049, 0.035, 0.04])\n",
    "        for j in range(1, 10):\n",
    "            detr1 = T([1, 3])([0.049 * (j * 2 - 1), 1.6])(detr)\n",
    "            detUp1.append(detr1)\n",
    "\n",
    "        detUp2 = []\n",
    "        detr2 = CUBOID([0.046, 0.035, 0.04])\n",
    "        for m in range(1, 6):\n",
    "            detr3 = T([1, 3])([0.049 * (m * 2 - 1), 1.625 +0.0195 * (m * 2 - 1)])(detr2)\n",
    "            detUp2.append(detr3)\n",
    "\n",
    "        finalDet3 = STRUCT([c1,c2, c3, T([1,2])([0.086,0.08])(STRUCT(detUp1)), T([1,2])([0.089,0.08])(STRUCT(detUp2)),\n",
    "                            T([1, 2])([1.02, 0.115])(R([1,2])(PI)(STRUCT(detUp2)))])\n",
    "\n",
    "        finalDoor = T(2)(-0.155)(STRUCT([finalDet1, T([1,2,3])([0.035,0.02,1.25])(finalDet2),\n",
    "                                         T([1,2,3])([0.975,0.02,1.25])(finalDet2), finalDet3]))\n",
    "        return COLOR([1,0.808,0.6])(finalDoor)\n",
    "\n",
    "    elif type ==2:\n",
    "        d1 = DIFFERENCE([T([1, 2])([-0.04, -0.04])(CUBOID([0.38, 0.04, 0.83])), T(2)(-0.04)(CUBOID([0.3, 0.04, 0.75]))])\n",
    "        d2 = T([1, 2, 3])([-0.04, -0.06, 0.83])(CUBOID([0.38, 0.06, 0.04]))\n",
    "        finalDet1 = STRUCT([d1, d2, T([2, 3])([-0.02, 0.04])(d2)])\n",
    "\n",
    "        c1 = DIFFERENCE([T([2, 3])([0.06, 0.21])(R([1, 3])(-PI / 2)(MY_CYLINDER([0.06, 0.05])(16))),\n",
    "                         T(2)(0.09)(CUBOID([0.05, 0.1, 0.27]))])\n",
    "        c2 = T([2, 3])([0.07, 0.03])(R([1, 3])(-PI / 2)(MY_CYLINDER([0.03, 0.05])(16)))\n",
    "        c3 = OFFSET([0.05, 0, 0])(MKPOL([[[0, 0.09, 0.03], [0, 0.005, 0.19], [0, 0.045, 0.19]], [[1, 2, 3]], [[1]]]))\n",
    "\n",
    "        finalDet2 = T([2, 3])([-0.09, 0.64])(STRUCT([c1, c2, c3]))\n",
    "\n",
    "        b1 = OFFSET([0, 0.12, 0])(MKPOL(\n",
    "            [[[-0.12, -0.12, 0.91], [0.15, -0.12, 1.11], [0.42, -0.12, 0.91], [0.37, -0.12, 0.91], [0.15, -0.12, 1.08],\n",
    "              [-0.07, -0.12, 0.91]], [[1, 2, 5, 6], [2, 3, 4, 5]], [[1]]]))\n",
    "        b2 = OFFSET([0, 0.09, 0])(MKPOL(\n",
    "            [[[-0.08, -0.09, 0.91], [-0.03, -0.09, 0.94], [0.37, -0.09, 0.94], [0.42, -0.09, 0.91]], [[1, 2, 3, 4]],\n",
    "             [[1]]]))\n",
    "\n",
    "        finalDet3 = STRUCT([b1, b2])\n",
    "\n",
    "        return COLOR([1,0.808,0.6])(STRUCT([finalDet1, T(1)(-0.09)(finalDet2), T(1)(0.34)(finalDet2), finalDet3]))\n"
   ]
  },
  {
   "cell_type": "code",
   "execution_count": null,
   "metadata": {
    "collapsed": true
   },
   "outputs": [],
   "source": [
    "def detailDome(params1):\n",
    "    re1, ri1, ri21, h11, h21 = params1\n",
    "    def detailDome1(params2):\n",
    "\n",
    "        re2, ri2, h12 = params2\n",
    "\n",
    "        det1 = T([1, 3])([ri1, 0.02])(CUBOID([0.08, 0.08, h11-0.02]))\n",
    "        cop = []\n",
    "        for i in range(1, 6):\n",
    "            frag = R([1, 2])(PI / 10 * (i - 1))(det1)\n",
    "            cop.append(frag)\n",
    "        fragCop = STRUCT(cop)\n",
    "        finalCop = STRUCT([fragCop, R([1, 2])(PI / 2)(fragCop), R([1, 2])(PI)(fragCop), R([1, 2])(-PI / 2)(fragCop)])\n",
    "        cyl1 = STRUCT([DIFFERENCE([MY_CYLINDER([re1,h11])(16), MY_CYLINDER([ri21,h11])(32)]),\n",
    "                       T(3)(h11)(DIFFERENCE([MY_CYLINDER([re1, h21])(16), MY_CYLINDER([ri1+0.01, h21])(32)]))])\n",
    "        finalDet1 = STRUCT([finalCop, cyl1])\n",
    "\n",
    "        det2 = T(1)(ri2)(CUBOID([0.045, 0.08, 0.03]))\n",
    "        cop2 = []\n",
    "        for i in range(1, 6):\n",
    "            frag = R([1, 2])(PI / 10 * (i - 1))(det2)\n",
    "            cop2.append(frag)\n",
    "        fragCop2 = STRUCT(cop2)\n",
    "        finalCop2 = STRUCT([fragCop2, R([1, 2])(PI / 2)(fragCop2), R([1, 2])(PI)(fragCop2), R([1, 2])(-PI / 2)(fragCop2)])\n",
    "        cyl2 = T(3)(0.03)(DIFFERENCE([MY_CYLINDER([re1, h12])(16), MY_CYLINDER([ri2+0.01, h12])(32)]))\n",
    "        finalDet2 = STRUCT([finalCop2, cyl2])\n",
    "\n",
    "        return COLOR([1,0.808,0.6])(STRUCT([finalDet1, T(3)(h11+h21)(finalDet2)]))"
   ]
  },
  {
   "cell_type": "code",
   "execution_count": null,
   "metadata": {
    "collapsed": true
   },
   "outputs": [],
   "source": [
    "def firstFloor():\n",
    "\n",
    "    walls = fileReader(\"walls.lines\", 2.2)\n",
    "    det1 = T([1, 2])([-0.03, -0.03])(CUBOID([7.41, 0.03, 0.15]))\n",
    "    det2 = T([1, 2])([-0.06, -0.06])(CUBOID([7.47, 0.06, 0.15]))\n",
    "    detailWall1 = STRUCT([det1, T(2)(7.38)(det1), T(1)(-0.03)(R([1, 2])(PI / 2)(det1)), T(1)(7.35)(R([1, 2])(PI / 2)(det1))])\n",
    "    detailWall2 = STRUCT([det2, T(2)(7.41)(det2), T(1)(-0.06)(R([1, 2])(PI / 2)(det2)), T(1)(7.35)(R([1, 2])(PI / 2)(det2))])\n",
    "    finalWalls = STRUCT([walls, T([1,2])([3.37,2])(CUBOID([0.66,0.3,2.1])), T([1,2])([3.37,5.05])(CUBOID([0.66,0.3,2.1])),\n",
    "                        T([1,2])([2.05,3.27])(CUBOID([0.3,0.86,2.1])), T([1,2])([5.05,3.27])(CUBOID([0.3,0.86,2.1]))])\n",
    "    centralDoor = STRUCT([CUBOID([0.6, 0.21, 1.5]), T([1, 3])([0.3, 1.5])(R([2, 3])(-PI / 2)(MY_CYLINDER([0.3, 0.21])(64)))])\n",
    "    externalDoor = CUBOID([0.6, 0.21, 1.4])\n",
    "    externalDoorHole = STRUCT([T([1, 2])([3.4, -0.06])(externalDoor), T([1, 2])([3.4, 7.2])(externalDoor),\n",
    "                         T([1, 2])([0.15, 3.4])(R([1, 2])(PI / 2)(externalDoor)),\n",
    "                         T([1, 2])([7.41, 3.4])(R([1, 2])(PI / 2)(externalDoor))])\n",
    "\n",
    "    internalDoor = STRUCT([R([1, 2])(PI / 4)(T([1, 2])([3.1, -0.15])(CUBOID([4.2, 0.3, 0.75]))),\n",
    "                           T(1)(7.4)(R([1, 2])(3 * PI / 4)(T([1, 2])([3.1, -0.15])(CUBOID([4.2, 0.3, 0.75])))),\n",
    "                           T([1, 2])([3.4, 1.85])(OFFSET([0.0, 4.0])(centralDoor)),\n",
    "                     T([1, 2])([1.7, 4.05])(R([1, 2])(-PI / 2)(OFFSET([0.0, 4.0])(S(1)([0.75 / 0.6])(centralDoor))))])\n",
    "\n",
    "    internalWindow = STRUCT([R([1, 2])(PI / 4)(T([1, 2])([3.1, -0.15])(CUBOID([4.2, 0.3, 0.3]))),\n",
    "                           T(1)(7.4)(R([1, 2])(3 * PI / 4)(T([1, 2])([3.1, -0.15])(CUBOID([4.2, 0.3, 0.33]))))])\n",
    "\n",
    "    center1 = T([1, 2])([3.7,3.675])(DIFFERENCE([MY_CYLINDER([1.45,2.16])(32),MY_CYLINDER([1.35,2.16])(100)]))\n",
    "    center2 = COLOR([1, 0.855, 0.702])(T([1, 2,3])([3.7, 3.675, 2.16])(DIFFERENCE([MY_CYLINDER([1.71, 0.04])(32),\n",
    "                                                                                   MY_CYLINDER([1.18, 0.04])(100)])))\n",
    "    holes = STRUCT([fileReader(\"internalDoors.lines\", 1), T(3)(0.3)(fileReader(\"windows.lines\", 0.9)), externalDoorHole,\n",
    "                    internalDoor, T(3)(1.25)(internalWindow)])\n",
    "    fm = COLOR([1,0.808,0.6])(DIFFERENCE([STRUCT([detailWall1, T(3)(1.9)(detailWall1), T(3)(2.05)(detailWall2)]), externalDoorHole]))\n",
    "    floor = STRUCT([TEXTURE(\"marmo_rosso2.png\")(T(3)(0.001)(MKPOL([[[0,0],[0,7.35],[7.35,0],[7.35,7.35]],[[1, 2, 3, 4]],\n",
    "                    [[1]]]))), COLOR([1, 0.855, 0.702])(T(3)(-0.011)(CUBOID([7.35,7.35,0.01])))])\n",
    "\n",
    "\n",
    "    finalFirst = COLOR([1, 0.855, 0.702])(DIFFERENCE([STRUCT([finalWalls, center1]), holes]))\n",
    "\n",
    "    detw = STRUCT([detailWindow(1),T([1,3])([0.09,0.3])(window(1))])\n",
    "    detw1 = STRUCT([ T(1)(0.51)(detw), T(1)(6.26)(detw)])\n",
    "    detw2 = STRUCT([T(2)(1.29)(R([1,2])(-PI/2)(detw)),T(2)(6.59)(R([1,2])(-PI/2)(detw))])\n",
    "    finalDetw = STRUCT([detw1,detw2,T([1,2])([7.35,7.35])(R([1,2])(PI)(detw1)), T([1,2])([7.35,7.35])(R([1,2])(-PI)(detw2))])\n",
    "\n",
    "    detd = T(1)(3.145)(STRUCT([detailDoor(1),T(1)(0.255)(puerta(1))]))\n",
    "    finalDetd = STRUCT([detd,T(1)(7.35)(R([1,2])(PI/2)(detd)), T(2)(7.4)(R([1,2])(-PI/2)(detd)), T([1,2])([7.4,7.35])(R([1,2])(PI)(detd))])\n",
    "\n",
    "    w1 = window(1)\n",
    "    finalW1 = STRUCT([T([1,2,3])([2.1,0.02,0.3])(w1),T([1,2,3])([4.9,0.02,0.3])(w1),\n",
    "                      T([1,2,3])([2.1,7.23,0.3])(w1), T([1,2,3])([4.9,7.23,0.3])(w1)])\n",
    "    w2 = T([1,3])([0.077,0.3])(R([1,2])(PI/2)(window(4)))\n",
    "    w2det = STRUCT([T(2)(2.1)(w2),T(2)(2.75)(w2),T(2)(4.25)(w2),T(2)(4.95)(w2), T([1,2])([7.271,2.1])(w2),\n",
    "                    T([1,2])([7.271,2.75])(w2), T([1,2])([7.271,4.25])(w2), T([1,2])([7.271,4.95])(w2)])\n",
    "\n",
    "    p = puerta(3)\n",
    "    p_v = STRUCT([T([1, 2])([0.6, 1.875])(p), T([1, 2])([0.6, 3.175])(p), T([1, 2])([0.6, 4.075])(p),\n",
    "                  T([1, 2])([0.6, 5.375])(p)])\n",
    "    p_h = STRUCT([T([1, 2])([2.975, 0.75])(R([1, 2])(PI / 2)(puerta(5))),\n",
    "                  T([1, 2])([2.975, 6.15])(R([1, 2])(PI / 2)(puerta(5)))])\n",
    "    finalIntDoors = STRUCT([p_v, p_h, T(1)(5.8)(p_v), T(1)(1.525)(p_h)])\n",
    "\n",
    "    intd = T([1,2])([1.23,0.15])(R([1,2])(-PI/2)(STRUCT([detailDoor(2),puerta(4)])))\n",
    "    finalIntd = STRUCT([R([1,2])(PI/4)(intd), R([1,2])(3*PI/4)(T([1,2])([0.096,0.085])(intd)),R([1,2])(-3*PI/4)(T([1,2])([0.205, -0.002])(intd)),\n",
    "                        R([1,2])(-PI/4)(T([1,2])([0.1165,-0.086])(intd))])\n",
    "\n",
    "    intw = T([1,2,3])([1.23,0.15,1.25])(R([1,2])(-PI/2)(detailWindow(2)))\n",
    "    finalIntw = STRUCT([R([1, 2])(PI / 4)(intw), R([1, 2])(3 * PI / 4)(T([1, 2])([0.096, 0.085])(intw)),\n",
    "                        R([1, 2])(-3 * PI / 4)(T([1, 2])([0.205, -0.002])(intw)),\n",
    "                        R([1, 2])(-PI / 4)(T([1, 2])([0.1165, -0.086])(intw))])\n",
    "\n",
    "    sp = T(1)(0.075)(DIFFERENCE(\n",
    "        [T(2)(-0.085)(CUBOID([0.25, 0.17, 0.055])), R([1, 2])(PI / 12)(T(2)(0.17)(CUBOID([0.35, 0.17, 0.055])))]))\n",
    "\n",
    "    stairInt = []\n",
    "    stairInt.append(sp)\n",
    "    for i in range(1, 40):\n",
    "        step = T(3)(0.055 * i)(R([1, 2])(PI / 8 * i)(sp))\n",
    "        stairInt.append(step)\n",
    "    stair = COLOR([1,0.808,0.54])(STRUCT(stairInt))\n",
    "    finalStair = STRUCT([T([1,2])([5,4.9])(stair),T([1,2])([4.9,2.35])(R([1,2])(-PI/2)(stair)),\n",
    "                         T([1, 2])([2.35, 2.25])(R([1, 2])(-PI / 2)(stair)),T([1,2])([2.25,5])(R([1,2])(-PI)(stair))])\n",
    "\n",
    "    finalDetailsFloor1 = STRUCT([T([1, 2, 3])([3.7, 3.675, 1.9])(detailDome([1.35, 1.22, 1.3, 0.13, 0.07])([1.22, 1.18, 0.03])),\n",
    "                                 finalDetw, finalDetd, finalW1, w2det,finalIntDoors, T([1,2])([3.76,3.76])(finalIntd),\n",
    "                                 T([1,2])([3.76,3.76])(finalIntw),finalStair, fm])\n",
    "    finalFirstDoor = STRUCT([finalFirst, floor, COLOR([1, 0.855, 0.702])(center2), finalDetailsFloor1])\n",
    "    return finalFirstDoor\n",
    "\n",
    "VIEW(STRUCT([detailsWindow(1),detailsDoor(1)]))\n",
    "VIEW(STRUCT([detailsWindow(2),detailsDoor(2)]))\n",
    "VIEW(STRUCT([puerta(1), T(1)(2)(window(1)),T(4)(puerta(3))]))\n",
    "VIEW(detailDome([1.35, 1.22, 1.3, 0.13, 0.07])([1.22, 1.18, 0.03]))\n",
    "VIEW(firstFloor())\n"
   ]
  },
  {
   "cell_type": "markdown",
   "metadata": {},
   "source": [
    "First floor without windows and doors (external)"
   ]
  },
  {
   "cell_type": "markdown",
   "metadata": {},
   "source": [
    "![alt text](figw5_5.png \"Title\")"
   ]
  },
  {
   "cell_type": "markdown",
   "metadata": {},
   "source": [
    "First floor without windows and doors (internal)"
   ]
  },
  {
   "cell_type": "markdown",
   "metadata": {},
   "source": [
    "![alt text](figw5_6.png \"Title\")"
   ]
  },
  {
   "cell_type": "markdown",
   "metadata": {},
   "source": [
    "Details on windows and doors (external of the first floor)"
   ]
  },
  {
   "cell_type": "markdown",
   "metadata": {},
   "source": [
    "![alt text](figw5_7.png \"Title\")"
   ]
  },
  {
   "cell_type": "markdown",
   "metadata": {},
   "source": [
    "details on windows and doors (internal of the first floor)"
   ]
  },
  {
   "cell_type": "markdown",
   "metadata": {},
   "source": [
    "![alt text](figw5_8.png \"Title\")"
   ]
  },
  {
   "cell_type": "markdown",
   "metadata": {},
   "source": [
    "Doors and windows of the first floor"
   ]
  },
  {
   "cell_type": "markdown",
   "metadata": {},
   "source": [
    "![alt text](figw5_9.png \"Title\")"
   ]
  },
  {
   "cell_type": "markdown",
   "metadata": {},
   "source": [
    "Detail of the central first floor room"
   ]
  },
  {
   "cell_type": "markdown",
   "metadata": {},
   "source": [
    "![alt text](figw5_10.png \"Title\")"
   ]
  },
  {
   "cell_type": "markdown",
   "metadata": {},
   "source": [
    "First floor with windows and doors (external)"
   ]
  },
  {
   "cell_type": "markdown",
   "metadata": {},
   "source": [
    "![alt text](figw5_11.png \"Title\")"
   ]
  },
  {
   "cell_type": "markdown",
   "metadata": {},
   "source": [
    "First floor with windows and doors (internal)"
   ]
  },
  {
   "cell_type": "markdown",
   "metadata": {},
   "source": [
    "![alt text](figw5_12.png \"Title\")"
   ]
  },
  {
   "cell_type": "markdown",
   "metadata": {},
   "source": [
    "![alt text](figw5_13.png \"Title\")"
   ]
  },
  {
   "cell_type": "markdown",
   "metadata": {},
   "source": [
    "![alt text](figw5_006.png \"Title\")"
   ]
  },
  {
   "cell_type": "markdown",
   "metadata": {},
   "source": [
    "We define the function that generates the first floor using functions defined before."
   ]
  },
  {
   "cell_type": "code",
   "execution_count": null,
   "metadata": {
    "collapsed": true
   },
   "outputs": [],
   "source": [
    "def secondFloor():\n",
    "\n",
    "    walls = fileReader(\"walls.lines\", 1.1)\n",
    "    det1 = T([1, 2])([-0.045, -0.045])(CUBOID([7.44, 0.045, 0.25]))\n",
    "    det2 = T([1, 2,3])([-0.07, -0.07,0.25])(CUBOID([7.49, 0.07, 0.05]))\n",
    "    detailWall1 = STRUCT([det1, T(2)(7.395)(det1), T(1)(-0.045)(R([1, 2])(PI / 2)(det1)), T(1)(7.35)(R([1, 2])(PI / 2)(det1))])\n",
    "    detailWall2 = STRUCT([det2, T(2)(7.42)(det2), T(1)(-0.07)(R([1, 2])(PI / 2)(det2)), T(1)(7.35)(R([1, 2])(PI / 2)(det2))])\n",
    "\n",
    "    externalDoor = CUBOID([0.6, 0.22, 0.85])\n",
    "    externalDoorHole = STRUCT([T([1, 2])([3.4, -0.07])(externalDoor), T([1, 2])([3.4, 7.2])(externalDoor),\n",
    "                               T([1, 2])([0.15, 3.4])(R([1, 2])(PI / 2)(externalDoor)),\n",
    "                               T([1, 2])([7.42, 3.4])(R([1, 2])(PI / 2)(externalDoor))])\n",
    "\n",
    "    inDoor = STRUCT([R([1, 2])(PI / 4)(T([1, 2])([3.1, -0.15])(CUBOID([4.2, 0.3, 0.75]))),\n",
    "                     T(1)(7.4)(R([1, 2])(3 * PI / 4)(T([1, 2])([3.1, -0.15])(CUBOID([4.2, 0.3, 0.75]))))])\n",
    "\n",
    "    center = DIFFERENCE([T([1, 2])([3.7,3.675])(DIFFERENCE([MY_CYLINDER([1.71,1.1])(32), MY_CYLINDER([1.61, 1.1])(100)]))])\n",
    "\n",
    "    holes = STRUCT([fileReader(\"internalDoors2.lines\", 1), T(3)(0.6)(fileReader(\"windows2.lines\", 0.3)),\n",
    "                    inDoor, externalDoorHole])\n",
    "    floorBase = COLOR([1,0.808,0.6])((DIFFERENCE(\n",
    "        [T(3)(-0.014)(CUBOID([7.35, 7.35, 0.015])), T([1, 2, 3])([2, 2, -0.014])(CUBOID([3.35, 3.35, 0.015]))])))\n",
    "\n",
    "    finalGroundFloor = COLOR([1, 0.855, 0.702])(DIFFERENCE([STRUCT([walls, center]), holes]))\n",
    "    finaldetails = COLOR([1, 0.808, 0.6])(DIFFERENCE([STRUCT([detailWall1,detailWall2]),externalDoorHole]))\n",
    "    w1 = T([2, 3])([0.02, 0.6])(window(2))\n",
    "    detw1 = STRUCT([T(1)(0.6)(w1), T(1)(2.1)(w1), T(1)(4.9)(w1), T(1)(6.35)(w1)])\n",
    "    detw2 = STRUCT([T([1, 2])([0.07, 0.8])(R([1, 2])(PI / 2)(w1)), T([1, 2])([0.07, 2.1])(R([1, 2])(PI / 2)(w1)),\n",
    "                    T([1, 2])([0.07, 4.9])(R([1, 2])(PI / 2)(w1)), T([1, 2])([0.07, 6.1])(R([1, 2])(PI / 2)(w1))])\n",
    "\n",
    "    finalDetw = STRUCT([detw1, T(1)(0.07)(detw2), T(2)(7.21)(detw1), T(1)(7.28)(detw2)])\n",
    "    p = puerta(3)\n",
    "    p_v = STRUCT([T([1, 2])([0.6, 1.875])(p), T([1, 2])([0.6, 3.175])(p), T([1, 2])([0.6, 4.075])(p),\n",
    "                  T([1, 2])([0.6, 5.375])(p)])\n",
    "    p_h = STRUCT([T([1, 2])([2.975, 0.75])(R([1, 2])(PI / 2)(puerta(5))),\n",
    "                  T([1, 2])([2.975, 6.15])(R([1, 2])(PI / 2)(puerta(5)))])\n",
    "    finalIntDoors = STRUCT([p_v, p_h, T(1)(5.8)(p_v), T(1)(1.525)(p_h)])\n",
    "    d1 = T(1)(3.4)(puerta(2))\n",
    "    finalDetd = STRUCT([d1, T(1)(7.35)(R([1, 2])(PI / 2)(d1)), T(2)(7.4)(R([1, 2])(-PI / 2)(d1)),\n",
    "                        T([1, 2])([7.4, 7.35])(R([1, 2])(PI)(d1))])\n",
    "    intd = T([1, 2])([1.5, 0.15])(R([1, 2])(-PI / 2)(puerta(4)))\n",
    "    finalIntd = STRUCT([R([1, 2])(PI / 4)(intd), R([1, 2])(3 * PI / 4)(T([1, 2])([0.096, 0.085])(intd)),\n",
    "                        R([1, 2])(-3 * PI / 4)(T([1, 2])([0.205, -0.002])(intd)),\n",
    "                        R([1, 2])(-PI / 4)(T([1, 2])([0.1165, -0.086])(intd))])\n",
    "    return STRUCT([finalGroundFloor, finaldetails,floorBase, finalDetw, finalIntDoors, finalDetd,\n",
    "                  T([1,2])([3.76,3.76])(finalIntd)])\n",
    "\n",
    "VIEW(STRUCT([T(1)(3)(window(2)), T(1)(5)(puerta(4))]))\n",
    "VIEW(balcony())\n",
    "VIEW(secondFloor())\n"
   ]
  },
  {
   "cell_type": "markdown",
   "metadata": {},
   "source": [
    "Second floor without windows and doors"
   ]
  },
  {
   "cell_type": "markdown",
   "metadata": {},
   "source": [
    "![alt text](figw5_14.png \"Title\")"
   ]
  },
  {
   "cell_type": "markdown",
   "metadata": {},
   "source": [
    "Doors and windows of the second floor"
   ]
  },
  {
   "cell_type": "markdown",
   "metadata": {},
   "source": [
    "![alt text](figw5_15.png \"Title\")"
   ]
  },
  {
   "cell_type": "markdown",
   "metadata": {},
   "source": [
    "Balcony of the second floor"
   ]
  },
  {
   "cell_type": "markdown",
   "metadata": {},
   "source": [
    "![alt text](figw5_20.png \"Title\")"
   ]
  },
  {
   "cell_type": "markdown",
   "metadata": {},
   "source": [
    "Second Floor with doors and windows"
   ]
  },
  {
   "cell_type": "markdown",
   "metadata": {},
   "source": [
    "![alt text](figw5_16.png \"Title\")"
   ]
  },
  {
   "cell_type": "markdown",
   "metadata": {},
   "source": [
    "![alt text](figw5_007.png \"Title\")"
   ]
  },
  {
   "cell_type": "markdown",
   "metadata": {},
   "source": [
    "First we define auxiliary functions to create the dome and finally define the function that generates the roof."
   ]
  },
  {
   "cell_type": "code",
   "execution_count": null,
   "metadata": {
    "collapsed": true
   },
   "outputs": [],
   "source": [
    "def HALFSPHERE(radius):\n",
    "\n",
    "    def HALFSPHERE0(subds):\n",
    "        N, M = subds\n",
    "        domain = Hpc(Grid([N * [PI / N], M * [2 * PI / M]]))\n",
    "        domain = MAT([[1, 0, 0, 0], [-PI / 2, 1, 0, 0], [-PI, 0, 1, 0], [0, 0, 0, 1]])(domain)\n",
    "        fx = lambda p: radius * math.cos(p[0]) * math.sin(p[1])\n",
    "        fy = lambda p: radius * math.cos(p[0]) * math.cos(p[1])\n",
    "        fz = lambda p: radius * ABS(math.sin(p[0]))\n",
    "        ret = GMAP([fx, fy, fz])(domain)\n",
    "        return ret\n",
    "    return HALFSPHERE0"
   ]
  },
  {
   "cell_type": "code",
   "execution_count": null,
   "metadata": {
    "collapsed": true
   },
   "outputs": [],
   "source": [
    "def fragDome(parameters):\n",
    "    re,ri,h,t = parameters\n",
    "\n",
    "    base = COLOR([1, 0.855, 0.702])(DIFFERENCE([MY_CYLINDER([re,h])(100),MY_CYLINDER([ri,h])(32)]))\n",
    "    angle = (3.14*(re+0.02))/20\n",
    "    if(t==1):\n",
    "        c = R([1, 2])(PI / 40)(TEXTURE(\"tegole1.png\")(T(1)(re + 0.02)(R([1, 3])(PI / 12 * 4)(T([1, 2])([-0.005, -(angle / 2)])(CUBOID([0.005, angle, 0.25]))))))\n",
    "    if(t ==2):\n",
    "        c = R([1, 2])(PI / 40)(TEXTURE(\"tegole1.png\")(T(1)(re+0.02)(R([1, 3])(PI / 14* 4)(T([1, 2])([-0.005, -(angle/2)])(CUBOID([0.005, angle, 0.25]))))))\n",
    "    if(t==3):\n",
    "        c = R([1, 2])(PI / 40)(TEXTURE(\"tegole1.png\")(T(1)(re+0.02)(R([1, 3])(PI / 10 * 4)(T([1, 2])([-0.005, -(angle/2)])(CUBOID([0.005, angle, 0.25]))))))\n",
    "    cop = []\n",
    "    for i in range(1, 11):\n",
    "        frag = R([1, 2])(PI / 20 * (i - 1))(c)\n",
    "        cop.append(frag)\n",
    "    fragCop = STRUCT(cop)\n",
    "    finalCop = STRUCT([fragCop, R([1, 2])(PI / 2)(fragCop), R([1, 2])(PI)(fragCop), R([1, 2])(-PI / 2)(fragCop)])\n",
    "\n",
    "    return STRUCT([base, T(3)(h)(finalCop)])"
   ]
  },
  {
   "cell_type": "code",
   "execution_count": null,
   "metadata": {
    "collapsed": true
   },
   "outputs": [],
   "source": [
    "def roof():\n",
    "\n",
    "    base = OFFSET([0,3.9,0])(T(3)(-0.12)(MKPOL([[[-0.03,-0.03,0],[-0.18,-0.18,0.12],[7.53,-0.18,0.12],[7.38,-0.03,0]],[[1,2,3,4]],[[1]]])))\n",
    "    finalBase = STRUCT([base, T([1,2])([7.35,7.35])(R([1,2])(PI)(base))])\n",
    "    r1 = OFFSET([0,0,0.04])(MKPOL([[[-0.2,-0.2,0],[3.675,3.675,1.65],[7.55,-0.2,0]],[[1,2,3]],[[1]]]))\n",
    "    roof = TEXTURE(\"tegole3.png\")(DIFFERENCE([r1,T([1,2])([3.7,3.675])(MY_CYLINDER([1.71, 1.8])(64))]))\n",
    "\n",
    "    bigRoof = STRUCT([roof,T(1)(7.35)(R([1,2])(PI/2)(roof)),T([1,2])([7.35,7.35])(R([1,2])(PI)(roof)),T(2)(7.35)(R([1,2])(-PI/2)(roof))])\n",
    "    centerWalls = DIFFERENCE([STRUCT([T([1,2])([3.7,3.675])(MY_CYLINDER([1.71, 1.2])(64)), finalBase]),\n",
    "                              T([1,2,3])([3.7,3.675,-0.12])(MY_CYLINDER([1.61, 1.9])(64))])\n",
    "\n",
    "    finalRoof = COLOR([1, 0.855, 0.702])(STRUCT([bigRoof, centerWalls]))\n",
    "    dome = T([1, 2])([3.7, 3.675])(TEXTURE(\"cupola.png\")(HALFSPHERE(1.6)([32, 32])))\n",
    "\n",
    "    frag1 = fragDome([1.77,1.61,0.15,1])\n",
    "    frag2 = fragDome([1.61,1.52,0.15,3])\n",
    "    frag3 = fragDome([1.48, 1.45,0.1,2])\n",
    "    frag4 = fragDome([1.34,1.32, 0.13,2])\n",
    "    frag5 = fragDome([1.21,1.19, 0.11,1])\n",
    "    frag6 = fragDome([1.05,1.02, 0.11,1])\n",
    "    frag7 = fragDome([0.905, 0.87,0.08,3])\n",
    "    frag8 = fragDome([0.72,0.7,0.05,3])\n",
    "    frag9 = fragDome([0.56, 0.5,0.02,3])\n",
    "\n",
    "    det2 = MKPOL([[[0.32, 0.137, 0], [0.32, -0.137, 0], [0.1, -0.0475, 0.16], [0.1, 0.0475, 0.16]], [[4, 3, 2, 1]], [[1]]])\n",
    "    detDome1 = STRUCT([det2, R([1, 2])(PI / 4)(det2), R([1, 2])(PI / 2)(det2), R([1, 2])(PI / 4 * 3)(det2), R([1, 2])(PI)(det2),\n",
    "                      R([1, 2])(-PI / 4)(det2),R([1, 2])(-PI / 2)(det2), R([1, 2])(-PI / 4 * 3)(det2)])\n",
    "    det3 = MKPOL([[[0.15, 0.062, 0], [0.15, -0.062, 0], [0, 0, 0.08]], [[3, 2, 1]], [[1]]])\n",
    "    detDome2 = STRUCT([det3, R([1, 2])(PI / 4)(det3), R([1, 2])(PI / 2)(det3), R([1, 2])(PI / 4 * 3)(det3), R([1, 2])(PI)(det3),\n",
    "                        R([1, 2])(-PI / 4)(det3), R([1, 2])(-PI / 2)(det3), R([1, 2])(-PI / 4 * 3)(det3)])\n",
    "    onDome = COLOR([1, 0.855, 0.702])(STRUCT([T(3)(1.099)(MY_CYLINDER([0.35, 0.03])(64)), T(3)(1.129)(MY_CYLINDER([0.37, 0.02])(64)), T(3)(1.149)(detDome1),\n",
    "                     T(3)(1.309)(MY_CYLINDER([0.1, 0.01])(64)), T(3)(1.319)(detDome2)]))\n",
    "\n",
    "    finalDome = STRUCT([frag1,T(3)(0.15)(frag2), T(3)(0.3)(frag3), T(3)(0.41)(frag4), T(3)(0.56)(frag5), T(3)(0.67)(frag6),\n",
    "                        T(3)(0.805)(frag7), T(3)(0.909)(frag8), T(3)(1)(frag9), onDome])\n",
    "\n",
    "    det4 = STRUCT([detailDome([1.63, 1.46, 1.56, 0.13, 0.07])([1.46, 1.42, 0.03]),\n",
    "                   R([1, 2])(PI / 20)(detailDome([1.63, 1.46, 1.56, 0.13, 0.07])([1.46, 1.42, 0.03]))])\n",
    "\n",
    "    det5 = R([1,2])(PI/15)(detailDome([1.52,1.37, 1.47,0.13,0.07])([1.37,1.33, 0.03]))\n",
    "    finalDet = STRUCT([det4, T(3)(0.25)(det5)])\n",
    "\n",
    "    return STRUCT([finalRoof, T([1,2,3])([3.7,3.675,1.2])(finalDome), dome, T([1, 2])([3.7,3.675])(finalDet)])\n",
    "\n",
    "VIEW(roof())"
   ]
  },
  {
   "cell_type": "markdown",
   "metadata": {},
   "source": [
    "Top view of the roof"
   ]
  },
  {
   "cell_type": "markdown",
   "metadata": {},
   "source": [
    "![alt text](figw5_17.png \"Title\")"
   ]
  },
  {
   "cell_type": "markdown",
   "metadata": {},
   "source": [
    "Dome"
   ]
  },
  {
   "cell_type": "markdown",
   "metadata": {},
   "source": [
    "![alt text](figw5_18.png \"Title\")"
   ]
  },
  {
   "cell_type": "markdown",
   "metadata": {},
   "source": [
    "Bottom view of the roof"
   ]
  },
  {
   "cell_type": "markdown",
   "metadata": {},
   "source": [
    "![alt text](figw5_19.png \"Title\")"
   ]
  },
  {
   "cell_type": "markdown",
   "metadata": {},
   "source": [
    "![alt text](figw5_008.png \"Title\")"
   ]
  },
  {
   "cell_type": "markdown",
   "metadata": {},
   "source": [
    "We define auxiliary functions for the creation of the details of external stair. Finally we define the function that generates the lateral structure of the Villa La Rotonda."
   ]
  },
  {
   "cell_type": "code",
   "execution_count": null,
   "metadata": {
    "collapsed": true
   },
   "outputs": [],
   "source": [
    "def externalStair():\n",
    "    s = COLOR([0.678,0.678,0.678])(CUBOID([0.1079, 3.4, 0.055]))\n",
    "    stairs = []\n",
    "    for i in range(1, 20):\n",
    "        step = T([1, 3])([2.05 - (0.1079 * i), 0.055 * (i - 1)])(s)\n",
    "        stairs.append(step)\n",
    "\n",
    "    return STRUCT(stairs)"
   ]
  },
  {
   "cell_type": "code",
   "execution_count": null,
   "metadata": {
    "collapsed": true
   },
   "outputs": [],
   "source": [
    "def lateralStructure():\n",
    "\n",
    "    # GROUND FLOOR OF THE LATERAL STRUCTURE OF THE VILLA\n",
    "\n",
    "    w1 = CUBOID([1.6, 0.25, 0.95])\n",
    "    w12 = T(1)(1.6)(CUBOID([2.05, 0.25, 0.95]))\n",
    "    det = DIFFERENCE([STRUCT([T(2)(-0.06)(CUBOID([3.71, 0.37, 0.3])), T(2)(-0.03)(CUBOID([3.68, 0.31, 0.5]))]), w1])\n",
    "    detw12 = COLOR([0.678,0.678,0.678])(DIFFERENCE([T(1)(1.6)(STRUCT([T(2)(-0.06)(CUBOID([2.11, 0.37, 0.3])),\n",
    "                                                                 T(2)(-0.03)(CUBOID([2.08, 0.31, 0.5]))])), w12]))\n",
    "    wall1 = STRUCT([w1, T(2)(3.65)(w1), T([1,2])([1.3,0.25])(CUBOID([0.15,3.4,0.95]))])\n",
    "    wall12 = STRUCT([w12, T(2)(3.65)(w12)])\n",
    "    roof =  COLOR([1,0.808,0.6])(T([2,3])([-0.06,0.95])(CUBOID([1.6,4.02,0.15])))\n",
    "    d1 = STRUCT([T(2)(-0.1)(CUBOID([0.8,0.5,0.65])), DIFFERENCE([T([1,2,3])([0.4,0.31,-0.095])(R([2,3])(PI/2)(MY_CYLINDER([0.85,0.31])(32))),\n",
    "                                                      T([1,3])([-0.7,-1.3])(CUBOID([2,0.31,1.95]))])])\n",
    "\n",
    "    hw = T([1,3])([1.6,0.575])(CUBOID([0.4,0.25,0.3]))\n",
    "    holeDoor = STRUCT([T([1,2])([0.25,-0.06])(d1), T([1,2])([0.25,3.65])(d1), T([1,2])([1.3,1.65])(CUBOID([0.15,0.6,0.9]))])\n",
    "    dj = COLOR([1,0.808,0.6])(DIFFERENCE([STRUCT([det, T(2)(3.65)(det)]),holeDoor]))\n",
    "    dp = DIFFERENCE([wall1,holeDoor])\n",
    "    dq = COLOR([1,0.808,0.6])(DIFFERENCE([roof,holeDoor]))\n",
    "    holew12 = STRUCT([hw, T(2)(3.65)(hw)])\n",
    "    m = COLOR([0.678,0.678,0.678])(T([1,3])([1.6,0.95])(CUBOID([2.11,0.37,0.15])))\n",
    "    finalStair = STRUCT([T([1,2])([1.6,0.25])(externalStair()), COLOR([0.949,0.949,0.949])(DIFFERENCE([wall12,holew12])),\n",
    "                         T(2)(-0.06)(m), T(2)(3.59)(m), detw12, T(2)(3.65)(detw12)])\n",
    "\n",
    "    wind = T([1,2, 3])([1.6,0.02,0.575])(window(3))\n",
    "    winds = STRUCT([wind, T(2)(3.81)(wind), T([1,2])([1.32,2.25])(R([1,2])(-PI/2)(puerta(2)))])\n",
    "    floor = COLOR([0.678,0.678,0.678])(T([1,2,3])([1.3,-0.06,-0.01])(CUBOID([2.41,4.02,0.03])))\n",
    "    finalGroundFloor = STRUCT([dj,dp,dq, finalStair, winds, floor])\n",
    "\n",
    "    # FIRST FLOOR OF THE LATERAL STRUCTURE OF THE VILLA\n",
    "\n",
    "    w2 = T(3)(1.1)(CUBOID([1.27, 0.25, 1.9]))\n",
    "\n",
    "    holeWall = STRUCT([CUBOID([0.8, 0.25, 1.25]), T([1, 3])([0.4, 1.25])(R([2, 3])(-PI / 2)(MY_CYLINDER([0.4, 0.25])(32)))])\n",
    "    wall2 = DIFFERENCE([STRUCT([w2,T(2)(3.65)(w2)]), T([1,3])([0.25,1.1])(holeWall),\n",
    "                        T([1,2,3])([0.25,3.65,1.1])(holeWall)])\n",
    "    detw =  COLOR([1,0.808,0.6])(OFFSET([0, 0.035, 0])(MKPOL([[[0.45, -0.035, 3], [0.85, -0.035, 3], [0.7, -0.035, 2.74],\n",
    "                                                               [0.6, -0.035, 2.74]],[[1, 2, 3, 4]], [[1]]])))\n",
    "    dw = T([1,2,3])([-0.03,-0.03, 2.2])(CUBOID([0.31,0.31,0.15]))\n",
    "    detw1 = COLOR([1,0.808,0.6])(STRUCT([dw, T(2)(3.65)(dw),T(1)(1.03)(dw),T([1,2])([1.03,3.65])(dw)]))\n",
    "    det2 = T([1, 3])([0.25, 1.1])(CUBOID([0.8, 0.1, 0.35]))\n",
    "    det3 = COLOR([1,0.808,0.6])(T([2,3])([-0.03, 1.1])(CUBOID([1.27,0.03,0.15])))\n",
    "    finalDetail = STRUCT([det2, T(2)(3.8)(det2), det3, T(2)(3.93)(det3), detw,T(2)(3.935)(detw), detw1])\n",
    "\n",
    "    col1 = MY_CYLINDER([0.1,1.75])(32)\n",
    "    col2 = MY_CYLINDER([0.14, 0.07])(32)\n",
    "    detcolp = R([1,3])(-PI/2)(MY_CYLINDER([0.05,0.25])(16))\n",
    "    detcolumn = STRUCT([T([1,2,3])([1.32,0,2.954])(detcolp),T([1,2,3])([1.32,0.2,2.954])(detcolp)])\n",
    "    columns = []\n",
    "    for i in range (1,7):\n",
    "        base = COLOR([1,0.808,0.6])(T([1,2,3])([1.3,0.72*(i-1),1.1])(CUBOID([0.3,0.3,0.15])))\n",
    "        col = T([1,2,3])([1.45,0.15+0.72*(i-1),1.25])(col1)\n",
    "        det01 = T([1,2,3])([1.45,0.15+0.72*(i-1),1.25])(col2)\n",
    "        det02 = T(2)(0.05+0.72*(i-1))(detcolumn)\n",
    "        column = STRUCT([base,col,det01, T(3)(1.68)(det01), det02])\n",
    "        columns.append(column)\n",
    "\n",
    "    holeRoof = OFFSET([0,3.4])(T([1,2,3])([0.65,0.25,-0.558])(R([2,3])(-PI/2)(MY_CYLINDER([0.85,0.06])(64))))\n",
    "    roof = COLOR([1,0.808,0.6])(DIFFERENCE([STRUCT([T(2)(-0.03)(CUBOID([1.63,3.96,0.15])),\n",
    "                                                    T([2,3])([-0.06,0.15])(CUBOID([1.66,4.02,0.15]))]), holeRoof]))\n",
    "    finalFirstFloor = STRUCT([wall2, finalDetail, STRUCT(columns), T(3)(3)(roof)])\n",
    "\n",
    "    # SECOND FLOOR OF THE LATERAL STRUCTURE OF THE VILLA\n",
    "\n",
    "\n",
    "    df = DIFFERENCE([T(2)(-0.035)(CUBOID([1.635,3.97,0.17])), CUBOID([1.6,3.9,0.3])])\n",
    "    dk = COLOR([1,0.808,0.6])(DIFFERENCE([T([2,3])([-0.065,0.17])(CUBOID([1.665,4.03,0.05])), CUBOID([1.6,3.9,0.3])]))\n",
    "    detail4 = STRUCT([df,dk])\n",
    "    hole3 = R([1,3])(-PI/2)(MY_CYLINDER([0.1,0.15])(16))\n",
    "    holeWall3 = STRUCT([T([1,2,3])([1.45,1.22,0.45])(hole3), T([1,2,3])([1.45,2.68,0.45])(hole3)])\n",
    "    wall3 = OFFSET([0.15,0,0])(MKPOL([[[1.45,0,0.22],[1.45,3.9,0.22],[1.45,1.95,0.95]],[[1,2,3]],[[1]]]))\n",
    "\n",
    "    r1 = OFFSET([1.665,0,0])(MKPOL([[[0, -0.094, 0.22],[0,-0.065, 0.17],[0, 1.95, 0.95],[0, 1.95, 1]],[[1, 2, 3, 4]], [[1]]]))\n",
    "    roof1 = COLOR([1,0.808,0.6])(STRUCT([r1, T([1, 2])([1.665, 3.9])(R([1, 2])(PI)(r1))]))\n",
    "    r2 = OFFSET([1.7,0,0])(MKPOL([[[0, -0.14, 0.3],[0,-0.094, 0.22],[0, 1.95, 1],[0, 1.95, 1.08]],[[1, 2, 3, 4]], [[1]]]))\n",
    "    roof2 = STRUCT([r2, T([1, 2])([1.7, 3.9])(R([1, 2])(PI)(r2))])\n",
    "    r3 = TEXTURE(\"tegole4.png\")(OFFSET([1.72,0,0])(MKPOL([[[0, -0.2015, 0.28],[0,-0.19, 0.26],[0, 1.95, 1.08],[0, 1.95, 1.1]],\n",
    "                                                          [[1, 2, 3, 4]], [[1]]])))\n",
    "    roof3 = STRUCT([r3, T([1, 2])([1.72, 3.9])(R([1, 2])(PI)(r3))])\n",
    "    detRoof1 = []\n",
    "    detr = CUBOID([0.061,0.03,0.061])\n",
    "    for j in range(1,14):\n",
    "        detr1 = T([1,2,3])([0.061*(j*2-1),-0.065,0.109])(detr)\n",
    "        detRoof1.append(detr1)\n",
    "    detRoof2 = []\n",
    "    det2 = CUBOID([0.03,0.061,0.061])\n",
    "    for k in range(1,33):\n",
    "        detr2 = T([1, 2, 3])([1.635, 0.061 * (k * 2 - 1), 0.109])(det2)\n",
    "        detRoof2.append(detr2)\n",
    "    detRoof3 =[]\n",
    "    for m in range(1,17):\n",
    "        detr3 = T([1,2,3])([1.6, 0.061*(m*2-1),0.0235*(m*2-1)])(det2)\n",
    "        detRoof3.append(detr3)\n",
    "    roof4 = T(3)(0.16)(STRUCT(detRoof3))\n",
    "\n",
    "    dtroof = STRUCT([T([1,2,3])([1.35,0.05,0.33])(CUBOID([0.2,0.2,0.15])), TEXTURE(\"tegole4.png\")(T([1,2,3])([1.32,0.02,0.48])\n",
    "                                                                                                  (CUBOID([0.26,0.26,0.05])))])\n",
    "    windowC = R([1, 3])(-PI / 2)(\n",
    "        STRUCT([TEXTURE(\"wood2.png\")(DIFFERENCE([MY_CYLINDER([0.1, 0.07])(16), MY_CYLINDER([0.075, 0.07])(16)])),\n",
    "                TEXTURE(\"grass3.png\")(T(3)(0.03)(MY_CYLINDER([0.075, 0.01])(16)))]))\n",
    "    finalDetRoof = COLOR([1,0.808,0.6])(STRUCT([STRUCT(detRoof1), T(2)(3.995)(STRUCT(detRoof1)), T(2)(-0.0305)(STRUCT(detRoof2)),\n",
    "                           T([1,2])([3.23,3.9])(R([1,2])(PI)(roof4)), roof4,dtroof,T(2)(3.6)(dtroof), T([2,3])([1.8,0.66])(dtroof)]))\n",
    "    finalWall3 = STRUCT([detail4,DIFFERENCE([wall3, holeWall3]), roof1, roof2, roof3,finalDetRoof])\n",
    "\n",
    "    finalLateral = COLOR([1, 0.855, 0.702])(STRUCT([finalGroundFloor, finalFirstFloor, T(3)(3.3)(finalWall3)]))\n",
    "\n",
    "\n",
    "    return STRUCT([finalLateral, T([1,2,3])([1.51,1.22,3.75])(windowC), T([1,2,3])([1.51,2.68,3.75])(windowC)])\n",
    "\n",
    "VIEW(lateralStructure())"
   ]
  },
  {
   "cell_type": "markdown",
   "metadata": {},
   "source": [
    "Front view of the lateral structure of the Villa"
   ]
  },
  {
   "cell_type": "markdown",
   "metadata": {},
   "source": [
    "![alt text](figw5_21.png \"Title\")"
   ]
  },
  {
   "cell_type": "markdown",
   "metadata": {},
   "source": [
    "Lateral view of the lateral structure of the villa"
   ]
  },
  {
   "cell_type": "markdown",
   "metadata": {},
   "source": [
    "![alt text](figw5_22.png \"Title\")"
   ]
  },
  {
   "cell_type": "markdown",
   "metadata": {},
   "source": [
    "Top view of thelateral structure of the villa"
   ]
  },
  {
   "cell_type": "markdown",
   "metadata": {},
   "source": [
    "![alt text](figw5_23.png \"Title\")"
   ]
  },
  {
   "cell_type": "markdown",
   "metadata": {},
   "source": [
    "Seconf floor of the lateral structure"
   ]
  },
  {
   "cell_type": "markdown",
   "metadata": {},
   "source": [
    "![alt text](figw5_24.png \"Title\")"
   ]
  },
  {
   "cell_type": "markdown",
   "metadata": {},
   "source": [
    "Columns of the first floor of the lateral structure"
   ]
  },
  {
   "cell_type": "markdown",
   "metadata": {},
   "source": [
    "![alt text](figw5_25.png \"Title\")"
   ]
  },
  {
   "cell_type": "markdown",
   "metadata": {},
   "source": [
    "![alt text](figw5_011.png \"Title\")"
   ]
  },
  {
   "cell_type": "code",
   "execution_count": null,
   "metadata": {
    "collapsed": true
   },
   "outputs": [],
   "source": [
    "def ggpl_villaLaRotonda(params):\n",
    "    \"\"\" This function returns  Villa La Rotonda\n",
    "                        :param dx: distance along the x axis\n",
    "                        :param dy: distance along the y axis\n",
    "                        :param dz: distance along the z axis\n",
    "                        :return: an object HPC\"\"\"\n",
    "    dx,dy,dz = params\n",
    "    ground = groundFloor()\n",
    "    first = firstFloor()\n",
    "    second = secondFloor()\n",
    "    r = roof()\n",
    "    centralStruct = T([1,2])([3.65,3.65])(STRUCT([ground, T(3)(1.1)(first), T(3)(3.3)(second), T([1, 2, 3])([3.7,3.675,3.3])(balcony()),\n",
    "                                                  T(3)(4.4)(r)]))\n",
    "    lateral = lateralStructure()\n",
    "\n",
    "    latStruct = STRUCT([T([1,2])([11,5.38])(lateral), T([1,2])([9.28,11])(R([1,2])(PI/2)(lateral)),\n",
    "                        T([1,2])([3.65,9.28])(R([1,2])(PI)(lateral)), T([1,2])([5.38,3.65])(R([1,2])(-PI/2)(lateral))])\n",
    "    finalVilla = STRUCT([centralStruct, latStruct])\n",
    "    return S([1, 2, 3])([double(dx/14.65), double(dy/14.65), double(dz/5.799)])(finalVilla)\n",
    "\n",
    "VIEW(ggpl_villaLaRotonda([14.65,14.65,5.799]))\n",
    "\n",
    "# the same function with different parameters\n",
    "VIEW(ggpl_villaLaRotonda([29.3,29.3,11.598]))\n"
   ]
  },
  {
   "cell_type": "markdown",
   "metadata": {},
   "source": [
    "![alt text](figw5_009.png \"Title\")"
   ]
  },
  {
   "cell_type": "markdown",
   "metadata": {},
   "source": [
    "Front view of the villa La Rotonda"
   ]
  },
  {
   "cell_type": "markdown",
   "metadata": {},
   "source": [
    "![alt text](figw5_26.png \"Title\")"
   ]
  },
  {
   "cell_type": "markdown",
   "metadata": {},
   "source": [
    "External view of the villa ( 45 degree angle to the right)"
   ]
  },
  {
   "cell_type": "markdown",
   "metadata": {},
   "source": [
    "![alt text](figw5_27.png \"Title\")"
   ]
  },
  {
   "cell_type": "markdown",
   "metadata": {},
   "source": [
    "External view of the villa ( 90 degree angle to the right)"
   ]
  },
  {
   "cell_type": "markdown",
   "metadata": {},
   "source": [
    "![alt text](figw5_28.png \"Title\")"
   ]
  },
  {
   "cell_type": "markdown",
   "metadata": {},
   "source": [
    "Top view of the villa La Rotonda"
   ]
  },
  {
   "cell_type": "markdown",
   "metadata": {},
   "source": [
    "![alt text](figw5_29.png \"Title\")"
   ]
  },
  {
   "cell_type": "markdown",
   "metadata": {},
   "source": [
    "![alt text](figw5_010.png \"Title\")"
   ]
  },
  {
   "cell_type": "markdown",
   "metadata": {},
   "source": [
    "Inside of the central room of the villa"
   ]
  },
  {
   "cell_type": "markdown",
   "metadata": {},
   "source": [
    "![alt text](figw5_30.png \"Title\")"
   ]
  },
  {
   "cell_type": "markdown",
   "metadata": {},
   "source": [
    "![alt text](figw5_31.png \"Title\")"
   ]
  },
  {
   "cell_type": "markdown",
   "metadata": {},
   "source": [
    "![alt text](figw5_32.png \"Title\")"
   ]
  },
  {
   "cell_type": "code",
   "execution_count": null,
   "metadata": {
    "collapsed": true
   },
   "outputs": [],
   "source": []
  }
 ],
 "metadata": {
  "kernelspec": {
   "display_name": "Python 2",
   "language": "python",
   "name": "python2"
  },
  "language_info": {
   "codemirror_mode": {
    "name": "ipython",
    "version": 2
   },
   "file_extension": ".py",
   "mimetype": "text/x-python",
   "name": "python",
   "nbconvert_exporter": "python",
   "pygments_lexer": "ipython2",
   "version": "2.7.12"
  }
 },
 "nbformat": 4,
 "nbformat_minor": 1
}
