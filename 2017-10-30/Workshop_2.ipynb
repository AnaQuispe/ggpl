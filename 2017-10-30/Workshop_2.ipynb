{
 "cells": [
  {
   "cell_type": "markdown",
   "metadata": {
    "collapsed": false
   },
   "source": [
    "![alt text](title.png \"Title\")"
   ]
  },
  {
   "cell_type": "markdown",
   "metadata": {},
   "source": [
    "We are going to create a wooden stair bookcase (the image below)"
   ]
  },
  {
   "cell_type": "markdown",
   "metadata": {},
   "source": [
    "![alt text](w0.png \"Title\")"
   ]
  },
  {
   "cell_type": "code",
   "execution_count": 1,
   "metadata": {
    "collapsed": true
   },
   "outputs": [
    {
     "name": "stdout",
     "output_type": "stream",
     "text": [
      "Evaluating fenvs.py..\n...fenvs.py imported in 0.0250132709631 seconds\n"
     ]
    }
   ],
   "source": [
    "from pyplasm import *"
   ]
  },
  {
   "cell_type": "markdown",
   "metadata": {},
   "source": [
    "Code of a sigle parametric function for create the wooden stair bookcase"
   ]
  },
  {
   "cell_type": "code",
   "execution_count": null,
   "metadata": {
    "collapsed": true
   },
   "outputs": [],
   "source": [
    "def ggpl_stairBookcase( dx, dy, dz):\n",
    "\n",
    "    \"\"\" This function returns a wooden stair bookcase with measures taken from the dx, dy and dz parameters.\n",
    "            \n",
    "            :param dx: distance along the x axis.\n",
    "            :param dy: distance along the y axis.\n",
    "            :param dz: distance along the z axis.\n",
    "            :return: an object HPC\n",
    "            \"\"\"\n",
    "\n",
    "    externalStructure = STRUCT([T([1, 2, 3])([0, 0.7, 0.02])(CUBOID([0.02, 0.33, 2.66])),\n",
    "                                                 T([2, 3])([1.03, 0.02])(CUBOID([3.10, 0.02, 2.68])),\n",
    "                                                 T(1)(3.08)(CUBOID([0.02, 1.03, 2.7])),\n",
    "                                                 T([2, 3])([0.7, 2.68])(CUBOID([3.08, 0.35, 0.02])),\n",
    "                                                 T(2)(0.7)(CUBOID([3.08, 0.35, 0.02]))])\n",
    "\n",
    "    verticalTable = CUBOID([0.02, 0.33, 2.66])\n",
    "    verticalBlocks = []\n",
    "    for i in range(1, 14): verticalBlocks.append(T([1, 2, 3])([0.2 * i + 0.02 * i, 0.7, 0.02])(verticalTable))\n",
    "\n",
    "    horizontalTable = CUBOID([0.2, 0.33, 0.02])\n",
    "    horizontalBlocks = []\n",
    "    books = []\n",
    "    for i in range(1, 15):\n",
    "        if i % 2 == 1:\n",
    "            for k in range(1, 6):\n",
    "                horizontalBlocks.append(T([1, 2, 3])([0.2*(i-1) + 0.02*i, 0.7, 0.47*k + 0.02*k])(horizontalTable))\n",
    "                books.append(T([1, 2, 3])([0.2 * (i - 1) + 0.02 * i, 0.75, 0.47 * k + 0.02 * (k + 1)])(\n",
    "                    TEXTURE(\"books2.png\")(CUBOID([0.2, 0.10, 0.2]))))\n",
    "        else:\n",
    "            horizontalBlocks.append(T([1, 2, 3])([0.2*(i-1) + 0.02*i, 0.7, 0.23])(horizontalTable))\n",
    "            for k in range(1, 5):\n",
    "                horizontalBlocks.append(T([1, 2, 3])([0.2*(i-1) + 0.02*i, 0.7, 0.47*k + 0.23 + 0.02*k])(horizontalTable))\n",
    "                books.append(T([1, 2, 3])([0.2 * (i - 1) + 0.02 * i, 0.75, 0.47*k + 0.02*(k+1) + 0.23])(\n",
    "                                TEXTURE(\"books3.png\")(CUBOID([0.2, 0.10, 0.2]))))\n",
    "    # scale bookcase\n",
    "    baseStair = T(1)(0.66)(CUBOID([2.42, 0.7, 0.02]))\n",
    "    stairBlock = CUBOID([0.22, 0.7, 0.02])\n",
    "    stair = []\n",
    "    underStairBlocks = []\n",
    "\n",
    "    for i in range(4, 15):\n",
    "        if i % 2 == 0:\n",
    "            underStairBlocks.append(T([1, 3])([0.2*(i-1) + 0.02*(i-1), 0.02])(CUBOID([0.02, 0.7, 0.21 + 0.235*(i-4) + 0.02*((i/2)-2)])))\n",
    "            stair.append(T([1, 3])([0.2 * (i - 1) + 0.02 * (i-1),  0.21 + 0.235*(i-4) + 0.02*((i/2)-1)])(stairBlock))\n",
    "            horizontalBlocks.append(T([1, 3])([0.2 * (i - 1) + 0.02 * i, 0.23])(CUBOID([0.2, 0.7, 0.02])))\n",
    "            for k in range(2, (i/2)-1):\n",
    "                horizontalBlocks.append(T([1, 3])([0.2 * (i - 1) + 0.02 * i, 0.47 * (k -1)+ 0.02 *(k-1)+ 0.23])(CUBOID([0.2, 0.7, 0.02])))\n",
    "                books.append(T([1, 2, 3])([0.2 * (i - 1) + 0.02 * i, 0.05, 0.47 * (k -1)+ 0.02 *(k)+ 0.23])(TEXTURE(\"books3.png\")(CUBOID([0.2, 0.10, 0.2]))))\n",
    "        else:\n",
    "            underStairBlocks.append(T([1, 3])([0.2 * (i - 1) + 0.02 * (i - 1), 0.02])\n",
    "                                    (CUBOID([0.02, 0.7, 0.47*((i/2)-1) + 0.02*((i/2)-2)])))\n",
    "            stair.append(T([1, 3])([0.2 * (i - 1) + 0.02 * (i - 1), 0.47*((i/2)-1) + 0.02*((i/2)-1)])(stairBlock))\n",
    "            for k in range(2, (i/2)):\n",
    "                horizontalBlocks.append(T([1, 3])([0.2 * (i - 1) + 0.02 * i, 0.47 * (k -1) + 0.02 * (k-1)])(CUBOID([0.2, 0.7, 0.02])))\n",
    "                books.append(T([1, 2, 3])([0.2 * (i - 1) + 0.02 * i, 0.05, 0.47 * (k - 1) + 0.02 * (k)])(\n",
    "                    TEXTURE(\"books4.png\")(CUBOID([0.2, 0.10, 0.2]))))\n",
    "                \n",
    "    firstBlockStructure = STRUCT([externalStructure, STRUCT(verticalBlocks), STRUCT(horizontalBlocks)])\n",
    "    StairStructure = STRUCT([baseStair, STRUCT(underStairBlocks), STRUCT(stair)])\n",
    "    bookcase = TEXTURE(\"wood2.png\")(STRUCT([firstBlockStructure, StairStructure]))\n",
    "    #bookcaseWithBooks = STRUCT([bookcase, STRUCT(books)])\n",
    "\n",
    "    return S([1, 2, 3])([dx, dy, dz])(bookcase)"
   ]
  },
  {
   "cell_type": "markdown",
   "metadata": {},
   "source": [
    "Execution with the real measures (in meters) of the bookcase model"
   ]
  },
  {
   "cell_type": "code",
   "execution_count": null,
   "metadata": {
    "collapsed": true
   },
   "outputs": [],
   "source": [
    "dx, dy, dz = 3.10, 1.05, 2.7\n",
    "VIEW(ggpl_stairBookcase(dx, dy, dz))"
   ]
  },
  {
   "cell_type": "markdown",
   "metadata": {},
   "source": [
    "![alt text](w1.png \"Title\")"
   ]
  },
  {
   "cell_type": "markdown",
   "metadata": {},
   "source": [
    "![alt text](w2.png \"Title\")"
   ]
  },
  {
   "cell_type": "markdown",
   "metadata": {},
   "source": [
    "![alt text](w3.png \"Title\")"
   ]
  },
  {
   "cell_type": "markdown",
   "metadata": {},
   "source": [
    "![alt text](w4.png \"Title\")"
   ]
  },
  {
   "cell_type": "markdown",
   "metadata": {},
   "source": [
    "Execution with different parameters"
   ]
  },
  {
   "cell_type": "code",
   "execution_count": null,
   "metadata": {
    "collapsed": true
   },
   "outputs": [],
   "source": [
    "dx, dy, dz = 6, 3, 4\n",
    "VIEW(ggpl_stairBookcase(dx, dy, dz))"
   ]
  },
  {
   "cell_type": "markdown",
   "metadata": {},
   "source": [
    "![alt text](w5.png \"Title\")"
   ]
  },
  {
   "cell_type": "code",
   "execution_count": null,
   "metadata": {
    "collapsed": true
   },
   "outputs": [],
   "source": [
    ""
   ]
  }
 ],
 "metadata": {
  "kernelspec": {
   "display_name": "Python 2",
   "language": "python",
   "name": "python2"
  },
  "language_info": {
   "codemirror_mode": {
    "name": "ipython",
    "version": 2.0
   },
   "file_extension": ".py",
   "mimetype": "text/x-python",
   "name": "python",
   "nbconvert_exporter": "python",
   "pygments_lexer": "ipython2",
   "version": "2.7.12"
  }
 },
 "nbformat": 4,
 "nbformat_minor": 0
}